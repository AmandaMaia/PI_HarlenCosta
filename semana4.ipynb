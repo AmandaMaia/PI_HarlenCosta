{
 "cells": [
  {
   "attachments": {},
   "cell_type": "markdown",
   "metadata": {},
   "source": [
    "## Módulo"
   ]
  },
  {
   "cell_type": "code",
   "execution_count": 1,
   "metadata": {},
   "outputs": [],
   "source": [
    "#no arquivo somasub.py\n",
    "\n",
    "\"\"\"Funções de soma e subtração\"\"\"\n",
    "\n",
    "def soma(a, b):\n",
    "    \"\"\"Retorna a + b\"\"\"\n",
    "    return a + b\n",
    "\n",
    "def subtracao(a, b):\n",
    "    \"\"\"Retorna a - b\"\"\"\n",
    "    return a - b\n",
    "\n",
    "def subtracao2(a, b):\n",
    "    \"\"\"Faz a mesma coisa que subtracao, mas de um jeito diferente\"\"\"\n",
    "    return a + (-b)"
   ]
  },
  {
   "attachments": {},
   "cell_type": "markdown",
   "metadata": {},
   "source": [
    "O módulo `math` fornece funções matemáticas. Veja a seguir algumas das funções e variáveis disponíveis:\n",
    "\n",
    "Função/variável | Descrição | Exemplo\n",
    ":-----          | :-------  | :-------\n",
    "`pi`            | Constante $\\pi$ | `pi` é `3.141592...`\n",
    "`e`             | Constante $e$ | `e` é `2.718281...`\n",
    "`inf`           | Infinito positivo | `10**10000 < inf` é `True`\n",
    "`floor(x)`      | Maior inteiro menor que `x` (*função piso*) | `floor(2.9)` é `2`\n",
    "`ceil(x)`       | Menor inteiro maior que `x` (*função teto*) | `ceil(3.01)` é `4`\n",
    "`sqrt(x)`       | Raiz quadrada de `x` | `sqrt(9)` é `3.0`\n",
    "`exp(x)`        | $e^x$ | `exp(1)` é igual à constante `e`\n",
    "`log(x)`        | Logaritmo natural de `x` | `log(e)` é `1`\n",
    "`cos(x)`        | Cosseno de `x` em radianos | `cos(pi/2)` é `0`\n",
    "`sin(x)`        | Seno de `x` em radianos | `sin(pi)` é `0`\n",
    "`tan(x)`        | Tangente de `x` em radianos | `tan(pi/4)` é `1`\n",
    "\n",
    "Para ver todas as funções e variáveis disponíveis em `math`, consulte a [documentação](https://docs.python.org/pt-br/3/library/math.html)."
   ]
  },
  {
   "cell_type": "code",
   "execution_count": null,
   "metadata": {},
   "outputs": [],
   "source": [
    "import math "
   ]
  },
  {
   "attachments": {},
   "cell_type": "markdown",
   "metadata": {},
   "source": [
    "O módulo `random` fornece funções relacionadas ao sorteio de números (geração de números pseudo-aleatórios). Algumas funções de `random` são dadas a seguir:\n",
    "\n",
    "Função            | Descrição | Exemplo\n",
    ":-----            | :-------  | :-------\n",
    "`randint(a, b)`   | `int` aleatório no intervalo `[a, b]` | `randint(1, 6)`\n",
    "`random()`        | `float` aleatório no intervalo `[0, 1)` | `random()`\n",
    "`randrange(a, b)` | `int` aleatório no intervalo `[a, b)` | `randrange(0, 5)`\n",
    "`seed(a)` | Inicializa o gerador de números usando a semente `a` (o padrão é a hora atual do sistema) | `seed(100)`\n",
    "\n",
    "Para ver todas as funções e variáveis disponíveis em `random`, consulte a [documentação](https://docs.python.org/pt-br/3/library/random.html)."
   ]
  },
  {
   "cell_type": "code",
   "execution_count": 1,
   "metadata": {},
   "outputs": [
    {
     "name": "stdout",
     "output_type": "stream",
     "text": [
      "0.34711311813283463\n",
      "18\n",
      "-4\n",
      "None\n"
     ]
    }
   ],
   "source": [
    "import random as rd\n",
    "print(rd.random())\n",
    "print(rd.randint(1,100))\n",
    "print(rd.randrange(-5,100))\n",
    "print(rd.seed(100))"
   ]
  },
  {
   "cell_type": "code",
   "execution_count": 29,
   "metadata": {},
   "outputs": [
    {
     "name": "stdout",
     "output_type": "stream",
     "text": [
      "Cara (0) ou coroa (1)? 0\n",
      "Acertou\n",
      "Foi sorteado 0 (CARA).\n"
     ]
    }
   ],
   "source": [
    "moeda = rd.randint(0,1)\n",
    "\n",
    "msg = \"Cara (0) ou coroa (1)?\"\n",
    "msg_co = \"Foi sorteado 1 (COROA).\"\n",
    "msg_ca = \"Foi sorteado 0 (CARA).\"\n",
    "\n",
    "resul = int(input(msg))\n",
    "if resul == 0 and moeda == 0:\n",
    "    status = \"Acertou\"\n",
    "    msg_moeda = msg_ca\n",
    "elif resul == 1 and moeda == 1:\n",
    "    status = \"Acertou\"\n",
    "    msg_moeda = msg_co\n",
    "elif resul == 0 and moeda == 1:\n",
    "    status = \"Errou\"\n",
    "    msg_moeda = msg_co\n",
    "elif resul == 1 and moeda == 0:\n",
    "    status = \"Errou\"\n",
    "    msg_moeda = msg_ca\n",
    "else:\n",
    "    msg_moeda = \"resultado invalido\"\n",
    "\n",
    "print(msg,resul)\n",
    "print(status) \n",
    "print(msg_moeda)"
   ]
  },
  {
   "attachments": {},
   "cell_type": "markdown",
   "metadata": {},
   "source": [
    "### Exercício 4.2 - Número palíndromo"
   ]
  },
  {
   "cell_type": "code",
   "execution_count": null,
   "metadata": {},
   "outputs": [],
   "source": [
    "n = int(input())\n",
    "\n",
    "\n"
   ]
  },
  {
   "cell_type": "code",
   "execution_count": null,
   "metadata": {},
   "outputs": [],
   "source": []
  }
 ],
 "metadata": {
  "kernelspec": {
   "display_name": "base",
   "language": "python",
   "name": "python3"
  },
  "language_info": {
   "codemirror_mode": {
    "name": "ipython",
    "version": 3
   },
   "file_extension": ".py",
   "mimetype": "text/x-python",
   "name": "python",
   "nbconvert_exporter": "python",
   "pygments_lexer": "ipython3",
   "version": "3.9.16"
  },
  "orig_nbformat": 4
 },
 "nbformat": 4,
 "nbformat_minor": 2
}
