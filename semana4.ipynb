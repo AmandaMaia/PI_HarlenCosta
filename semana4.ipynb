{
 "cells": [
  {
   "attachments": {},
   "cell_type": "markdown",
   "metadata": {},
   "source": [
    "## Módulo"
   ]
  },
  {
   "cell_type": "code",
   "execution_count": 1,
   "metadata": {},
   "outputs": [],
   "source": [
    "#no arquivo somasub.py\n",
    "\n",
    "\"\"\"Funções de soma e subtração\"\"\"\n",
    "\n",
    "def soma(a, b):\n",
    "    \"\"\"Retorna a + b\"\"\"\n",
    "    return a + b\n",
    "\n",
    "def subtracao(a, b):\n",
    "    \"\"\"Retorna a - b\"\"\"\n",
    "    return a - b\n",
    "\n",
    "def subtracao2(a, b):\n",
    "    \"\"\"Faz a mesma coisa que subtracao, mas de um jeito diferente\"\"\"\n",
    "    return a + (-b)"
   ]
  },
  {
   "attachments": {},
   "cell_type": "markdown",
   "metadata": {},
   "source": [
    "O módulo `math` fornece funções matemáticas. Veja a seguir algumas das funções e variáveis disponíveis:\n",
    "\n",
    "Função/variável | Descrição | Exemplo\n",
    ":-----          | :-------  | :-------\n",
    "`pi`            | Constante $\\pi$ | `pi` é `3.141592...`\n",
    "`e`             | Constante $e$ | `e` é `2.718281...`\n",
    "`inf`           | Infinito positivo | `10**10000 < inf` é `True`\n",
    "`floor(x)`      | Maior inteiro menor que `x` (*função piso*) | `floor(2.9)` é `2`\n",
    "`ceil(x)`       | Menor inteiro maior que `x` (*função teto*) | `ceil(3.01)` é `4`\n",
    "`sqrt(x)`       | Raiz quadrada de `x` | `sqrt(9)` é `3.0`\n",
    "`exp(x)`        | $e^x$ | `exp(1)` é igual à constante `e`\n",
    "`log(x)`        | Logaritmo natural de `x` | `log(e)` é `1`\n",
    "`cos(x)`        | Cosseno de `x` em radianos | `cos(pi/2)` é `0`\n",
    "`sin(x)`        | Seno de `x` em radianos | `sin(pi)` é `0`\n",
    "`tan(x)`        | Tangente de `x` em radianos | `tan(pi/4)` é `1`\n",
    "\n",
    "Para ver todas as funções e variáveis disponíveis em `math`, consulte a [documentação](https://docs.python.org/pt-br/3/library/math.html)."
   ]
  },
  {
   "cell_type": "code",
   "execution_count": null,
   "metadata": {},
   "outputs": [],
   "source": [
    "import math "
   ]
  },
  {
   "attachments": {},
   "cell_type": "markdown",
   "metadata": {},
   "source": [
    "O módulo `random` fornece funções relacionadas ao sorteio de números (geração de números pseudo-aleatórios). Algumas funções de `random` são dadas a seguir:\n",
    "\n",
    "Função            | Descrição | Exemplo\n",
    ":-----            | :-------  | :-------\n",
    "`randint(a, b)`   | `int` aleatório no intervalo `[a, b]` | `randint(1, 6)`\n",
    "`random()`        | `float` aleatório no intervalo `[0, 1)` | `random()`\n",
    "`randrange(a, b)` | `int` aleatório no intervalo `[a, b)` | `randrange(0, 5)`\n",
    "`seed(a)` | Inicializa o gerador de números usando a semente `a` (o padrão é a hora atual do sistema) | `seed(100)`\n",
    "\n",
    "Para ver todas as funções e variáveis disponíveis em `random`, consulte a [documentação](https://docs.python.org/pt-br/3/library/random.html)."
   ]
  },
  {
   "cell_type": "code",
   "execution_count": 1,
   "metadata": {},
   "outputs": [
    {
     "name": "stdout",
     "output_type": "stream",
     "text": [
      "0.34711311813283463\n",
      "18\n",
      "-4\n",
      "None\n"
     ]
    }
   ],
   "source": [
    "import random as rd\n",
    "print(rd.random())\n",
    "print(rd.randint(1,100))\n",
    "print(rd.randrange(-5,100))\n",
    "print(rd.seed(100))"
   ]
  },
  {
   "cell_type": "code",
   "execution_count": 29,
   "metadata": {},
   "outputs": [
    {
     "name": "stdout",
     "output_type": "stream",
     "text": [
      "Cara (0) ou coroa (1)? 0\n",
      "Acertou\n",
      "Foi sorteado 0 (CARA).\n"
     ]
    }
   ],
   "source": [
    "moeda = rd.randint(0,1)\n",
    "\n",
    "msg = \"Cara (0) ou coroa (1)?\"\n",
    "msg_co = \"Foi sorteado 1 (COROA).\"\n",
    "msg_ca = \"Foi sorteado 0 (CARA).\"\n",
    "\n",
    "resul = int(input(msg))\n",
    "if resul == 0 and moeda == 0:\n",
    "    status = \"Acertou\"\n",
    "    msg_moeda = msg_ca\n",
    "elif resul == 1 and moeda == 1:\n",
    "    status = \"Acertou\"\n",
    "    msg_moeda = msg_co\n",
    "elif resul == 0 and moeda == 1:\n",
    "    status = \"Errou\"\n",
    "    msg_moeda = msg_co\n",
    "elif resul == 1 and moeda == 0:\n",
    "    status = \"Errou\"\n",
    "    msg_moeda = msg_ca\n",
    "else:\n",
    "    msg_moeda = \"resultado invalido\"\n",
    "\n",
    "print(msg,resul)\n",
    "print(status) \n",
    "print(msg_moeda)"
   ]
  },
  {
   "attachments": {},
   "cell_type": "markdown",
   "metadata": {},
   "source": [
    "### Exercício 4.2 - Número palíndromo"
   ]
  },
  {
   "cell_type": "code",
   "execution_count": 82,
   "metadata": {},
   "outputs": [
    {
     "name": "stdout",
     "output_type": "stream",
     "text": [
      "True\n"
     ]
    },
    {
     "data": {
      "text/plain": [
       "'\\ncriar uma variavel status \\nmultiplicar um status pelo outro a cada while\\ncriar um if para n par e n impar (verificar o nº do meio)\\n'"
      ]
     },
     "execution_count": 82,
     "metadata": {},
     "output_type": "execute_result"
    }
   ],
   "source": [
    "n = int(input()) #recebe n como string\n",
    "num = str(n)\n",
    "lista_n = [int(i) for i in str(n)] #cria uma lista com todos os temos de n\n",
    "i=0\n",
    "\n",
    "final=True\n",
    "\n",
    "for i in range (0,len(lista_n)):\n",
    "    \"\"\"\n",
    "    print(lista_n[i])\n",
    "    print(lista_n[(len(lista_n))-1-i])\n",
    "    #pega os dois valores em ordem inversa\n",
    "    i = i+1\n",
    "    \"\"\"\n",
    "\n",
    "    if lista_n[i]==lista_n[(len(lista_n))-1-i]:\n",
    "        status=True\n",
    "    else:\n",
    "        status=False\n",
    "    #print(status) #para verificar o status de comparação a cada loop\n",
    "    final = final*status\n",
    "    i+=1 \n",
    "\n",
    "print(bool(final))\n",
    "\n",
    "\"\"\"\n",
    "criar uma variavel status \n",
    "multiplicar um status pelo outro a cada while\n",
    "criar um if para n par e n impar (verificar o nº do meio)\n",
    "pegar sempre o primeiro e ultimo termo mudando uma casa (em par)\n",
    "ex: 1234 - 1 4, 2 3, 3 2, 4 1\n",
    "\"\"\""
   ]
  },
  {
   "cell_type": "code",
   "execution_count": 65,
   "metadata": {},
   "outputs": [
    {
     "data": {
      "text/plain": [
       "4"
      ]
     },
     "execution_count": 65,
     "metadata": {},
     "output_type": "execute_result"
    }
   ],
   "source": [
    "len(lista_n)"
   ]
  },
  {
   "cell_type": "code",
   "execution_count": 15,
   "metadata": {},
   "outputs": [],
   "source": [
    "# sem usar lista \n",
    "\"\"\"\n",
    "ir dividindo o numero por 10^i com // para pegar o resto \n",
    "para i = qtd algarismos \n",
    "\"\"\"\n",
    "\n",
    "def num_digitos(n):\n",
    "    total=0\n",
    "    while n>0:\n",
    "        n//=10\n",
    "        total +=1\n",
    "    return total "
   ]
  },
  {
   "cell_type": "code",
   "execution_count": 19,
   "metadata": {},
   "outputs": [],
   "source": [
    "def palindromo(n):\n",
    "    \"\"\"retorna true se n é palindromo\"\"\"\n",
    "    nd = num_digitos(n)\n",
    "    for i in range (nd//2): #pegar só os pares de digitos\n",
    "        es = (n//10**i)%10\n",
    "        di = (n//10**(nd-1-i)) % 10\n",
    "        if es != di:\n",
    "            return False\n",
    "    return True\n"
   ]
  },
  {
   "cell_type": "code",
   "execution_count": 22,
   "metadata": {},
   "outputs": [
    {
     "name": "stdout",
     "output_type": "stream",
     "text": [
      "1234321\n",
      "True\n"
     ]
    }
   ],
   "source": [
    "n=int(input())\n",
    "print(n)\n",
    "print(palindromo(n))\n"
   ]
  },
  {
   "attachments": {},
   "cell_type": "markdown",
   "metadata": {},
   "source": [
    "### Exercício 4.3 - Adivinhe o número"
   ]
  },
  {
   "cell_type": "code",
   "execution_count": 91,
   "metadata": {},
   "outputs": [
    {
     "name": "stdout",
     "output_type": "stream",
     "text": [
      "Adivinhe o número de 1 a 100\n",
      "Tentativas restantes: 5\n",
      "Qual é o número:20\n",
      "Errou. O número sorteado é MENOR que 20\n",
      "Tentativas restantes: 4\n",
      "Qual é o número:20\n",
      "Errou. O número sorteado é MENOR que 20\n",
      "Tentativas restantes: 3\n",
      "Qual é o número:20\n",
      "Errou. O número sorteado é MENOR que 20\n",
      "Tentativas restantes: 2\n",
      "Qual é o número:20\n",
      "Errou. O número sorteado é MENOR que 20\n",
      "Tentativas restantes: 1\n",
      "Qual é o número:20\n",
      "Errou. O número sorteado é MENOR que 20\n",
      "Acabaram suas tentativas.\n",
      "O número sorteado era 12\n"
     ]
    }
   ],
   "source": [
    "print(\"Adivinhe o número de 1 a 100\")\n",
    "\n",
    "num = 12 #rd.randint(1,100)\n",
    "\n",
    "chance = 5\n",
    "while chance > 0:\n",
    "    print(f'Tentativas restantes: {chance}')\n",
    "    n = int(input(\"Qual é o número:\"))\n",
    "    print(f\"Qual é o número:{n}\")\n",
    "\n",
    "    if n == num:\n",
    "        print('Parabéns! Você acertou.')\n",
    "        print(f'O número sorteado era {num}')\n",
    "        break\n",
    "    elif n > num:\n",
    "        print(f'Errou. O número sorteado é MENOR que {n}')\n",
    "    elif n < num:\n",
    "        print(f'Errou. O número sorteado é MAIOR que {n}')\n",
    "    \n",
    "    chance -= 1\n",
    "\n",
    "if chance == 0: #caso a pessoa perca\n",
    "    print(\"Acabaram suas tentativas.\")\n",
    "    print(f\"O número sorteado era {num}\")\n"
   ]
  },
  {
   "attachments": {},
   "cell_type": "markdown",
   "metadata": {},
   "source": [
    "### Exercício 4.4 - Monte Carlo"
   ]
  },
  {
   "cell_type": "code",
   "execution_count": 34,
   "metadata": {},
   "outputs": [
    {
     "name": "stdout",
     "output_type": "stream",
     "text": [
      "3.14140264\n"
     ]
    }
   ],
   "source": [
    "import random as rd\n",
    "\n",
    "def dentro_circ(x,y):\n",
    "    return x*x+y*y<=1\n",
    "\n",
    "def pi_nm(n):\n",
    "    m=0\n",
    "    for _ in range(0, n):\n",
    "        x=rd.random()\n",
    "        y=rd.random()\n",
    "        m+=dentro_circ(x,y)\n",
    "    return 4 * (m / n)\n",
    "\n",
    "print(pi_nm(500000000))"
   ]
  },
  {
   "cell_type": "code",
   "execution_count": null,
   "metadata": {},
   "outputs": [],
   "source": [
    "\"\"\"Exercício 4.4 - Monte Carlo\"\"\"\n",
    "import random\n",
    "\n",
    "\n",
    "def dentro_do_circulo_unitario(x, y):\n",
    "    return x * x + y * y <= 1\n",
    "\n",
    "\n",
    "def pi_mc(n):\n",
    "    m = 0\n",
    "    for _ in range(0, n):\n",
    "        x, y = random.random(), random.random()\n",
    "        m += dentro_do_circulo_unitario(x, y)\n",
    "    return 4 * (m / n)\n",
    "\n",
    "\n",
    "print(pi_mc(5000000))"
   ]
  },
  {
   "cell_type": "code",
   "execution_count": 49,
   "metadata": {},
   "outputs": [
    {
     "name": "stdout",
     "output_type": "stream",
     "text": [
      " -  #  - \n",
      " #  -  # \n",
      " -  #  - \n"
     ]
    }
   ],
   "source": [
    "\"\"\"Exercício 4.6 - Tabuleiro de xadrez\"\"\"\n",
    "\n",
    "\n",
    "def xadrez(n):\n",
    "    for i in range(n):\n",
    "        for j in range(n):\n",
    "            print(\" # \" if (i + j) % 2 else \" - \", end=\"\")\n",
    "        print()\n",
    "\n",
    "\n",
    "xadrez(3)"
   ]
  },
  {
   "cell_type": "code",
   "execution_count": 63,
   "metadata": {},
   "outputs": [
    {
     "name": "stdout",
     "output_type": "stream",
     "text": [
      "- - - # # # - - - # # # - - - # # # - - - # # # \n",
      "- - - # # # - - - # # # - - - # # # - - - # # # \n",
      "- - - # # # - - - # # # - - - # # # - - - # # # \n",
      "# # # - - - # # # - - - # # # - - - # # # - - - \n",
      "# # # - - - # # # - - - # # # - - - # # # - - - \n",
      "# # # - - - # # # - - - # # # - - - # # # - - - \n",
      "- - - # # # - - - # # # - - - # # # - - - # # # \n",
      "- - - # # # - - - # # # - - - # # # - - - # # # \n",
      "- - - # # # - - - # # # - - - # # # - - - # # # \n",
      "# # # - - - # # # - - - # # # - - - # # # - - - \n",
      "# # # - - - # # # - - - # # # - - - # # # - - - \n",
      "# # # - - - # # # - - - # # # - - - # # # - - - \n",
      "- - - # # # - - - # # # - - - # # # - - - # # # \n",
      "- - - # # # - - - # # # - - - # # # - - - # # # \n",
      "- - - # # # - - - # # # - - - # # # - - - # # # \n",
      "# # # - - - # # # - - - # # # - - - # # # - - - \n",
      "# # # - - - # # # - - - # # # - - - # # # - - - \n",
      "# # # - - - # # # - - - # # # - - - # # # - - - \n",
      "- - - # # # - - - # # # - - - # # # - - - # # # \n",
      "- - - # # # - - - # # # - - - # # # - - - # # # \n",
      "- - - # # # - - - # # # - - - # # # - - - # # # \n",
      "# # # - - - # # # - - - # # # - - - # # # - - - \n",
      "# # # - - - # # # - - - # # # - - - # # # - - - \n",
      "# # # - - - # # # - - - # # # - - - # # # - - - \n"
     ]
    }
   ],
   "source": [
    "\"\"\"Exercício 4.7 - Tabuleiro de xadrez 2\"\"\"\n",
    "\n",
    "\n",
    "def xadrez2(n, x):\n",
    "    for i in range(n * x):\n",
    "        for j in range(n * x):\n",
    "            print(\"# \" if ((i // x + j // x)) % 2 else \"- \", end=\"\")\n",
    "        print()\n",
    "\n",
    "xadrez2(8,3)"
   ]
  }
 ],
 "metadata": {
  "kernelspec": {
   "display_name": "base",
   "language": "python",
   "name": "python3"
  },
  "language_info": {
   "codemirror_mode": {
    "name": "ipython",
    "version": 3
   },
   "file_extension": ".py",
   "mimetype": "text/x-python",
   "name": "python",
   "nbconvert_exporter": "python",
   "pygments_lexer": "ipython3",
   "version": "3.9.16"
  },
  "orig_nbformat": 4
 },
 "nbformat": 4,
 "nbformat_minor": 2
}
