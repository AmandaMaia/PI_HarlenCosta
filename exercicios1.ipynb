{
 "cells": [
  {
   "cell_type": "code",
   "execution_count": 3,
   "metadata": {},
   "outputs": [
    {
     "name": "stdout",
     "output_type": "stream",
     "text": [
      "Primeiro numero = 6.00\n",
      "Primeiro numero = 7.00\n",
      "Primeiro numero = 8.00\n"
     ]
    }
   ],
   "source": [
    "x1=float(input())\n",
    "x2=float(input())\n",
    "x3=float(input())\n",
    "\n",
    "#\"numeor 1 %.2f e %.3f\" % (x1)\n",
    "print(\"Primeiro numero = %.2f\" % (x1))\n",
    "print(\"Segundo numero = %.2f\" % (x2))\n",
    "print(\"Terceiro numero = %.2f\" % (x3))"
   ]
  },
  {
   "cell_type": "code",
   "execution_count": 5,
   "metadata": {},
   "outputs": [
    {
     "data": {
      "text/plain": [
       "5.0"
      ]
     },
     "execution_count": 5,
     "metadata": {},
     "output_type": "execute_result"
    }
   ],
   "source": [
    "a=float(input())\n",
    "b=float(input())\n",
    "def somar(a,b):\n",
    "    return a+b\n",
    "somar(a,b)"
   ]
  },
  {
   "cell_type": "code",
   "execution_count": 6,
   "metadata": {},
   "outputs": [],
   "source": [
    "x1 = int(input())\n",
    "y1 = int(input())\n",
    "x2 = int(input())\n",
    "y2 = int(input())\n",
    "\n",
    "def calcular_distancia(x1,y1,x2,y2):\n",
    "    return abs(x2-x1) + abs(y2-y1)"
   ]
  },
  {
   "cell_type": "code",
   "execution_count": null,
   "metadata": {},
   "outputs": [],
   "source": [
    "ax = int(input())\n",
    "ay = int(input())\n",
    "bx = int(input())\n",
    "by = int(input())\n",
    "\n",
    "def calcular_distancia(ax,ay,bx,by):\n",
    "    return ((bx-ax)**2 + (by-ay)**2)*0.5"
   ]
  },
  {
   "cell_type": "code",
   "execution_count": 9,
   "metadata": {},
   "outputs": [
    {
     "data": {
      "text/plain": [
       "25"
      ]
     },
     "execution_count": 9,
     "metadata": {},
     "output_type": "execute_result"
    }
   ],
   "source": [
    "((4-1)**2 + (5-1)**2)**0.5"
   ]
  }
 ],
 "metadata": {
  "kernelspec": {
   "display_name": "base",
   "language": "python",
   "name": "python3"
  },
  "language_info": {
   "codemirror_mode": {
    "name": "ipython",
    "version": 3
   },
   "file_extension": ".py",
   "mimetype": "text/x-python",
   "name": "python",
   "nbconvert_exporter": "python",
   "pygments_lexer": "ipython3",
   "version": "3.9.16"
  },
  "orig_nbformat": 4
 },
 "nbformat": 4,
 "nbformat_minor": 2
}
