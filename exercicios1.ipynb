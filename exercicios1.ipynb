{
 "cells": [
  {
   "cell_type": "code",
   "execution_count": 3,
   "metadata": {},
   "outputs": [
    {
     "name": "stdout",
     "output_type": "stream",
     "text": [
      "Primeiro numero = 6.00\n",
      "Primeiro numero = 7.00\n",
      "Primeiro numero = 8.00\n"
     ]
    }
   ],
   "source": [
    "x1=float(input())\n",
    "x2=float(input())\n",
    "x3=float(input())\n",
    "\n",
    "#\"numeor 1 %.2f e %.3f\" % (x1)\n",
    "print(\"Primeiro numero = %.2f\" % (x1))\n",
    "print(\"Segundo numero = %.2f\" % (x2))\n",
    "print(\"Terceiro numero = %.2f\" % (x3))"
   ]
  },
  {
   "cell_type": "code",
   "execution_count": 5,
   "metadata": {},
   "outputs": [
    {
     "data": {
      "text/plain": [
       "5.0"
      ]
     },
     "execution_count": 5,
     "metadata": {},
     "output_type": "execute_result"
    }
   ],
   "source": [
    "a=float(input())\n",
    "b=float(input())\n",
    "def somar(a,b):\n",
    "    return a+b\n",
    "somar(a,b)"
   ]
  },
  {
   "cell_type": "code",
   "execution_count": 6,
   "metadata": {},
   "outputs": [],
   "source": [
    "x1 = int(input())\n",
    "y1 = int(input())\n",
    "x2 = int(input())\n",
    "y2 = int(input())\n",
    "\n",
    "def calcular_distancia(x1,y1,x2,y2):\n",
    "    return abs(x2-x1) + abs(y2-y1)"
   ]
  },
  {
   "cell_type": "code",
   "execution_count": null,
   "metadata": {},
   "outputs": [],
   "source": [
    "ax = int(input())\n",
    "ay = int(input())\n",
    "bx = int(input())\n",
    "by = int(input())\n",
    "\n",
    "def calcular_distancia(ax,ay,bx,by):\n",
    "    return ((bx-ax)**2 + (by-ay)**2)*0.5"
   ]
  },
  {
   "cell_type": "code",
   "execution_count": 9,
   "metadata": {},
   "outputs": [
    {
     "data": {
      "text/plain": [
       "25"
      ]
     },
     "execution_count": 9,
     "metadata": {},
     "output_type": "execute_result"
    }
   ],
   "source": [
    "((4-1)**2 + (5-1)**2)**0.5"
   ]
  },
  {
   "cell_type": "code",
   "execution_count": 3,
   "metadata": {},
   "outputs": [
    {
     "ename": "ValueError",
     "evalue": "could not convert string to float: ''",
     "output_type": "error",
     "traceback": [
      "\u001b[1;31m---------------------------------------------------------------------------\u001b[0m",
      "\u001b[1;31mValueError\u001b[0m                                Traceback (most recent call last)",
      "Cell \u001b[1;32mIn[3], line 1\u001b[0m\n\u001b[1;32m----> 1\u001b[0m a1 \u001b[39m=\u001b[39m \u001b[39mfloat\u001b[39;49m(\u001b[39minput\u001b[39;49m())\n\u001b[0;32m      2\u001b[0m r \u001b[39m=\u001b[39m \u001b[39mfloat\u001b[39m(\u001b[39minput\u001b[39m())\n\u001b[0;32m      3\u001b[0m n \u001b[39m=\u001b[39m \u001b[39mfloat\u001b[39m(\u001b[39minput\u001b[39m())\n",
      "\u001b[1;31mValueError\u001b[0m: could not convert string to float: ''"
     ]
    }
   ],
   "source": [
    "a1 = float(input())\n",
    "r = float(input())\n",
    "n = float(input())\n",
    "\n",
    "an = a1+(n-1)*r\n",
    "soma = (n*(a1+an))/2\n",
    "\n",
    "print(int(soma))"
   ]
  },
  {
   "cell_type": "code",
   "execution_count": 6,
   "metadata": {},
   "outputs": [
    {
     "name": "stdout",
     "output_type": "stream",
     "text": [
      "40.5\n"
     ]
    }
   ],
   "source": [
    "Vtotal = float(input())\n",
    "Vdesc = (Vtotal*0.9)*0.9 \n",
    "print(Vdesc)"
   ]
  },
  {
   "cell_type": "code",
   "execution_count": 13,
   "metadata": {},
   "outputs": [
    {
     "name": "stdout",
     "output_type": "stream",
     "text": [
      "[10, 7, 6]\n"
     ]
    }
   ],
   "source": [
    "#transformar em lista\n",
    "numeros = input()\n",
    "ListNum = list(numeros)\n",
    "\n",
    "lista2 = [int(i) for i in ListNum]\n",
    "lista2 = [i+1 for i in lista2]\n",
    "\n",
    "#considerar o 10\n",
    "\n",
    "\n",
    "print(lista2)"
   ]
  }
 ],
 "metadata": {
  "kernelspec": {
   "display_name": "base",
   "language": "python",
   "name": "python3"
  },
  "language_info": {
   "codemirror_mode": {
    "name": "ipython",
    "version": 3
   },
   "file_extension": ".py",
   "mimetype": "text/x-python",
   "name": "python",
   "nbconvert_exporter": "python",
   "pygments_lexer": "ipython3",
   "version": "3.9.16"
  },
  "orig_nbformat": 4
 },
 "nbformat": 4,
 "nbformat_minor": 2
}
