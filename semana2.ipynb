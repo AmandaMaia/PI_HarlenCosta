{
 "cells": [
  {
   "cell_type": "code",
   "execution_count": 19,
   "metadata": {},
   "outputs": [],
   "source": [
    "import math"
   ]
  },
  {
   "attachments": {},
   "cell_type": "markdown",
   "metadata": {},
   "source": [
    "## Materiais \n",
    "\n",
    "https://github.com/hbatagelo/PI-UFABC/blob/main/semana2.md"
   ]
  },
  {
   "cell_type": "code",
   "execution_count": 20,
   "metadata": {},
   "outputs": [
    {
     "ename": "ValueError",
     "evalue": "invalid literal for int() with base 10: ''",
     "output_type": "error",
     "traceback": [
      "\u001b[1;31m---------------------------------------------------------------------------\u001b[0m",
      "\u001b[1;31mValueError\u001b[0m                                Traceback (most recent call last)",
      "Cell \u001b[1;32mIn[20], line 1\u001b[0m\n\u001b[1;32m----> 1\u001b[0m n \u001b[39m=\u001b[39m \u001b[39mint\u001b[39;49m(\u001b[39minput\u001b[39;49m(\u001b[39m\"\u001b[39;49m\u001b[39mDigite um número:\u001b[39;49m\u001b[39m\"\u001b[39;49m ))\n\u001b[0;32m      3\u001b[0m \u001b[39mif\u001b[39;00m n \u001b[39m==\u001b[39m \u001b[39m5\u001b[39m:\n\u001b[0;32m      4\u001b[0m     \u001b[39m#um if espera uma linha identada \u001b[39;00m\n\u001b[0;32m      5\u001b[0m     \u001b[39mprint\u001b[39m(\u001b[39m\"\u001b[39m\u001b[39mVocê digitou 5!\u001b[39m\u001b[39m\"\u001b[39m)\n",
      "\u001b[1;31mValueError\u001b[0m: invalid literal for int() with base 10: ''"
     ]
    }
   ],
   "source": [
    "n = int(input(\"Digite um número:\" ))\n",
    "\n",
    "if n == 5:\n",
    "    #um if espera uma linha identada \n",
    "    print(\"Você digitou 5!\")\n",
    "    print(\"5 é meu número favorito!\")\n",
    "\n",
    "print(\"Obrigado. Tenha um bom dia.\")"
   ]
  },
  {
   "cell_type": "code",
   "execution_count": null,
   "metadata": {},
   "outputs": [
    {
     "name": "stdout",
     "output_type": "stream",
     "text": [
      "O número é menor que zero.\n",
      "O número digitado é -5\n"
     ]
    }
   ],
   "source": [
    "n = int(input(\"Digite um número: \"))\n",
    "\n",
    "if n < 0:\n",
    "    print(\"O número é menor que zero.\")\n",
    "else:\n",
    "    print(\"O número não é menor que zero.\")\n",
    "\n",
    "print(f\"O número digitado é {n}\")"
   ]
  },
  {
   "cell_type": "code",
   "execution_count": null,
   "metadata": {},
   "outputs": [
    {
     "name": "stdout",
     "output_type": "stream",
     "text": [
      "Banho frio.\n",
      "A diferença em relação à temperatura corporal é de 31.5 graus.\n"
     ]
    }
   ],
   "source": [
    "temperatura = int(input(\"Temperatura do chuveiro (em °C): \"))\n",
    "\n",
    "if temperatura >= 43:\n",
    "    print(\"Muito quente. Você pode se queimar!\")\n",
    "elif temperatura >= 38:\n",
    "    print(\"Banho quente.\")\n",
    "elif temperatura >= 29:\n",
    "    print(\"Banho morno.\")\n",
    "else:\n",
    "    print(\"Banho frio.\")\n",
    "\n",
    "dif = abs(36.5 - temperatura)\n",
    "print(f\"A diferença em relação à temperatura corporal é de {dif} graus.\")"
   ]
  },
  {
   "cell_type": "code",
   "execution_count": null,
   "metadata": {},
   "outputs": [
    {
     "name": "stdout",
     "output_type": "stream",
     "text": [
      "Você está aprovado.\n"
     ]
    }
   ],
   "source": [
    "n = float(input(\"Digite a nota de 0 a 10: \"))\n",
    "\n",
    "if n >= 5:\n",
    "    resultado = \"aprovado\"\n",
    "else:\n",
    "    resultado = \"reprovado\"\n",
    "\n",
    "print(f\"Você está {resultado}.\")"
   ]
  },
  {
   "cell_type": "code",
   "execution_count": null,
   "metadata": {},
   "outputs": [
    {
     "name": "stdout",
     "output_type": "stream",
     "text": [
      "Aprovado\n",
      "A média é 5.00\n",
      "Fim do programa\n"
     ]
    }
   ],
   "source": [
    "n1 = float(input(\"Digite a nota 1: \"))\n",
    "n2 = float(input(\"Digite a nota 2: \"))\n",
    "faltas = int(input(\"Digite o número de faltas: \"))\n",
    "\n",
    "media = (n1 + n2) / 2\n",
    "\n",
    "if faltas < 7:\n",
    "    if media >= 5:\n",
    "        print(\"Aprovado\")\n",
    "    else:\n",
    "        print(\"Reprovado (F)\")\n",
    "\n",
    "    print(f\"A média é {media:.2f}\")  #correção. Estava dando invalid format\n",
    "else:\n",
    "    print(\"Reprovado por faltas (O).\")\n",
    "\n",
    "print(\"Fim do programa\")"
   ]
  },
  {
   "cell_type": "code",
   "execution_count": null,
   "metadata": {},
   "outputs": [
    {
     "name": "stdout",
     "output_type": "stream",
     "text": [
      "Você teve faltas.\n"
     ]
    }
   ],
   "source": [
    "faltas = int(input(\"Digite o número de faltas: \"))\n",
    "\n",
    "if faltas:\n",
    "    print(\"Você teve faltas.\")\n",
    "else:\n",
    "    print(\"Você não teve faltas.\")"
   ]
  },
  {
   "attachments": {},
   "cell_type": "markdown",
   "metadata": {},
   "source": [
    "### depuração "
   ]
  },
  {
   "cell_type": "code",
   "execution_count": 74,
   "metadata": {},
   "outputs": [
    {
     "name": "stdout",
     "output_type": "stream",
     "text": [
      "O conceito final é F\n"
     ]
    }
   ],
   "source": [
    "p1 = float(input(\"Digite a nota da P1: \"))\n",
    "p2 = float(input(\"Digite a nota da P2: \"))\n",
    "epsilon = float(input(\"Digite o epsilon: \"))\n",
    "\n",
    "media = p1 * 0.4 + p2 * 0.6 + epsilon\n",
    "\n",
    "if media >= 8.5 and media <= 10:\n",
    "    conceito = 'A'\n",
    "elif media > 7 and media < 8.5:\n",
    "    conceito = 'B'\n",
    "elif media >= 5.5 and media < 7:\n",
    "    conceito = 'C'\n",
    "elif media >= 5 and media < 5.5:\n",
    "    conceito = 'D'\n",
    "else:\n",
    "    conceito = 'F'\n",
    "\n",
    "print(f\"O conceito final é {conceito}\")"
   ]
  },
  {
   "attachments": {},
   "cell_type": "markdown",
   "metadata": {},
   "source": [
    "Verificar por que em alguns casos a nota é F quando não deveria ser\n",
    "\n",
    "exemplo: nota 7\n",
    "\n",
    "passo 1: determinar valores de entrada que reproduzam o erro\n",
    "\n",
    "passo 2 : teste de mesa. Tentar repassar a lógica mentalmente\n",
    "\n",
    "outra opção: depurador. Ferramenta que auxilia no teste de mesa, executando linha a linha. Para isso, selecionar uma linha e pressionar F9, o que adiciona um ponto de parada, e ao passar por aquela linha de execução o programa pausa e exibe o valor das variaveis naquele momento"
   ]
  },
  {
   "attachments": {},
   "cell_type": "markdown",
   "metadata": {},
   "source": [
    "Tecla | Descrição\n",
    ":---- | :-----------------------\n",
    "`F9`  | Insere ou remove um ponto de parada na linha atual.\n",
    "`F5`  | Continua a executar o programa até o próximo ponto de parada, ou até o fim do programa.\n",
    "`F10` | Executa a linha atual.\n",
    "`F11` | Executa a linha atual e, se a linha atual tiver uma chamada de função, entra nessa função.\n",
    "`Shift+F11`     | Se estiver em uma função, executa o resto da função e volta para a linha que a chamou.\n",
    "`Shift+F5`      | Interrompe a depuração do programa\n",
    "`Ctrl+Shift+F5` | Reinicia a depuração do programa"
   ]
  },
  {
   "attachments": {},
   "cell_type": "markdown",
   "metadata": {},
   "source": [
    "## Exercicios "
   ]
  },
  {
   "attachments": {},
   "cell_type": "markdown",
   "metadata": {},
   "source": [
    "### 2.1 Votação "
   ]
  },
  {
   "cell_type": "code",
   "execution_count": 26,
   "metadata": {},
   "outputs": [
    {
     "name": "stdout",
     "output_type": "stream",
     "text": [
      "Qual é a sua idade? 70\n",
      "Você é maior de idade.\n",
      "Seu voto é obrigatório.\n"
     ]
    }
   ],
   "source": [
    "#pega a idade\n",
    "msg_idade = \"Qual é a sua idade?\"\n",
    "idade = int(input(msg_idade))\n",
    "\n",
    "#verificacao de idade \n",
    "if idade >= 18:\n",
    "    maioridade = True \n",
    "    voto = True \n",
    "else:\n",
    "    maioridade = False \n",
    "    voto = False  \n",
    "\n",
    "#mensagens de acordo com a condicao das variaveis acima\n",
    "print(msg_idade, idade)\n",
    "if maioridade:\n",
    "    print(\"Você é maior de idade.\")\n",
    "    print(\"Seu voto é obrigatório.\")\n",
    "else:\n",
    "    print(\"Você é menor de idade.\")\n",
    "    print(\"Seu voto é facultativo.\")"
   ]
  },
  {
   "cell_type": "code",
   "execution_count": 71,
   "metadata": {},
   "outputs": [
    {
     "name": "stdout",
     "output_type": "stream",
     "text": [
      "Qual é a sua idade? 60\n",
      "Você é maior de idade.\n",
      "Seu voto é obrigatório.\n"
     ]
    }
   ],
   "source": [
    "#pega a idade\n",
    "msg_idade = \"Qual é a sua idade?\"\n",
    "idade = int(input(msg_idade))\n",
    "\n",
    "#verificacao de idade \n",
    "if idade >= 18:\n",
    "    maioridade = True \n",
    "    voto = True \n",
    "else:\n",
    "    maioridade = False \n",
    "    voto = False  \n",
    "\n",
    "#mensagens de acordo com a condicao das variaveis acima\n",
    "print(msg_idade, idade)\n",
    "if maioridade==True and idade<70:\n",
    "    print(\"Você é maior de idade.\")\n",
    "    print(\"Seu voto é obrigatório.\")\n",
    "elif maioridade==True and idade>=70:\n",
    "    print(\"Você é maior de idade.\")\n",
    "    print(\"Seu voto é facultativo.\")\n",
    "elif maioridade == False and idade>=16:\n",
    "    print(\"Você é menor de idade.\")\n",
    "    print(\"Seu voto é facultativo.\")\n",
    "else:\n",
    "    print(\"Você é menor de idade.\")\n",
    "    print(\"Você ainda não pode votar.\")"
   ]
  },
  {
   "attachments": {},
   "cell_type": "markdown",
   "metadata": {},
   "source": [
    "### 2.2 - Ponto no círculo"
   ]
  },
  {
   "cell_type": "code",
   "execution_count": 60,
   "metadata": {},
   "outputs": [
    {
     "name": "stdout",
     "output_type": "stream",
     "text": [
      "Coordenada x do ponto: 2 \n",
      " Coordenada y do ponto: 3 \n",
      " Raio do círculo: 5 \n",
      " Coordenada x do centro do círculo: 4 \n",
      " Coordenada x do centro do círculo: 5\n",
      "O ponto (2.0,3.0) está DENTRO do círculo!\n",
      "A distância até o centro do círculo é 2.83\n"
     ]
    }
   ],
   "source": [
    "#recebe 5 variaveis\n",
    "msg_pontoX = \"Coordenada x do ponto:\"\n",
    "msg_pontoY = \"Coordenada y do ponto:\"\n",
    "msg_raio = \"Raio do círculo:\"\n",
    "msg_centroX = \"Coordenada x do centro do círculo:\"\n",
    "msg_centroY = \"Coordenada y do centro do círculo:\"\n",
    "\n",
    "pontoX,pontoY = float(input(msg_pontoX)),float(input(msg_pontoY))\n",
    "raio = float(input(msg_pontoX))\n",
    "centroX,centroY = float(input(msg_centroX)),float(input(msg_centroY))\n",
    "\n",
    "#calculo distancia - usar nas proximas questoes\n",
    "def func_distancia(xb,xa,yb,ya):\n",
    "#    distancia = ((pontoX-centroX)**2+(pontoY-centroY)**2)**0.5 #raiz quadrada\n",
    "    distancia = ((xb-xa)**2+(yb-ya)**2)**0.5 #raiz quadrada\n",
    "    return float(distancia)\n",
    "\n",
    "distancia = func_distancia(pontoX,centroX,pontoY,centroY)\n",
    "\n",
    "if distancia >= raio:\n",
    "    status = \"FORA\"\n",
    "else:\n",
    "    status = \"DENTRO\"\n",
    "\n",
    "#imprime valores lidos \n",
    "print(msg_pontoX, int(pontoX), \"\\n\", msg_pontoY, int(pontoY),\"\\n\", #variaveis ponto\n",
    "      msg_raio, int(raio), \"\\n\", #variavel raio \n",
    "      msg_centroX, int(centroX), \"\\n\", msg_centroX, int(centroY)) #variaveis centro\n",
    "\n",
    "#impressao resultados\n",
    "print(\"O ponto ({},{}) está {} do círculo!\".format(pontoX,pontoY,status))\n",
    "print(f\"A distância até o centro do círculo é {distancia:.2f}\")\n"
   ]
  },
  {
   "attachments": {},
   "cell_type": "markdown",
   "metadata": {},
   "source": [
    "### 2.3 Ano Bissexto"
   ]
  },
  {
   "cell_type": "code",
   "execution_count": 55,
   "metadata": {},
   "outputs": [
    {
     "name": "stdout",
     "output_type": "stream",
     "text": [
      "Qual é o ano? 2010\n",
      "2010 não é um ano bissexto.\n"
     ]
    }
   ],
   "source": [
    "#verifica ano bissexto\n",
    "#recebe o ano\n",
    "msg_ano = \"Qual é o ano?\"\n",
    "ano = int(input())\n",
    "if ano % 400 == 0: \n",
    "    #é multiplo de 400\n",
    "    bissexto = True\n",
    "elif ano % 4 == 0 and ano % 4 != 0:\n",
    "    #é multiplo de 4 e nao é multiplo de 100\n",
    "    bissexto = True\n",
    "    status = \"é\"\n",
    "else:\n",
    "    bissexto = False\n",
    "    status = \"não é\"\n",
    "\n",
    "print(msg_ano,ano)\n",
    "print(f'{ano} {status} um ano bissexto.')"
   ]
  },
  {
   "attachments": {},
   "cell_type": "markdown",
   "metadata": {},
   "source": [
    "### 2.4 Estrela da morte"
   ]
  },
  {
   "cell_type": "code",
   "execution_count": 73,
   "metadata": {},
   "outputs": [
    {
     "name": "stdout",
     "output_type": "stream",
     "text": [
      "Coordenada x do centro da circunferência 1: 0.0\n",
      "Coordenada y do centro da circunferência 1: 0.0\n",
      "Raio da circunferência 1: 9.0\n",
      "Coordenada x do centro da circunferência 2: 3.0\n",
      "Coordenada y do centro da circunferência 2: 6.0\n",
      "Raio da circunferência 2: 3.0\n",
      "É uma Estrela da Morte! Chame o Luke!\n"
     ]
    }
   ],
   "source": [
    "#uma estrela da morte é uma esfera com uma esfera menos inscrita nela\n",
    "#receber os dados de cada esfera e calcular se o a esfera 2 está dentro do raio da esfera 1\n",
    "\n",
    "#dados circunferencia 1\n",
    "msg_circ1X = \"Coordenada x do centro da circunferência 1:\"\n",
    "msg_circ1Y = \"Coordenada y do centro da circunferência 1:\"\n",
    "msg_raio1 = \"Raio da circunferência 1:\"\n",
    "circ1X = float(input(msg_circ1X))\n",
    "circ1Y = float(input(msg_circ1Y))\n",
    "raio1 = float(input(msg_raio1))\n",
    "\n",
    "#dados circunferencia 2\n",
    "msg_circ2X = \"Coordenada x do centro da circunferência 2:\"\n",
    "msg_circ2Y = \"Coordenada y do centro da circunferência 2:\"\n",
    "msg_raio2 = \"Raio da circunferência 2:\"\n",
    "circ2X = float(input(msg_circ2X))\n",
    "circ2Y = float(input(msg_circ2Y))\n",
    "raio2 = float(input(msg_raio2))\n",
    "\n",
    "if abs(raio2-raio1)>5:\n",
    "    #verifica distancia dos raios\n",
    "    #se for menor, não faz o calculo\n",
    "    distancia = func_distancia(circ2X,circ1X,circ2X,circ2Y) #colocar formula\n",
    "    if distancia < (raio1+raio2):\n",
    "        #as esferas se tocam, no minimo\n",
    "        status = \"É uma Estrela da Morte! Chame o Luke!\"\n",
    "else:\n",
    "    status = \"Ufa, não é  é uma estrela da morte\"\n",
    "\n",
    "print(msg_circ1X,circ1X)\n",
    "print(msg_circ1Y,circ1Y)\n",
    "print(msg_raio1,raio1)\n",
    "print(msg_circ2X,circ2X)\n",
    "print(msg_circ2Y,circ2Y)\n",
    "print(msg_raio2,raio2)\n",
    "print(status)\n"
   ]
  },
  {
   "attachments": {},
   "cell_type": "markdown",
   "metadata": {},
   "source": [
    "### 2.5 Tipo de triangulo\n",
    "\n",
    "usar o depurador"
   ]
  },
  {
   "cell_type": "code",
   "execution_count": 6,
   "metadata": {},
   "outputs": [
    {
     "name": "stdout",
     "output_type": "stream",
     "text": [
      "Comprimento 1: 5.0\n",
      "Comprimento 2: 5.0\n",
      "Comprimento 3: 5.0\n",
      "Equilátero\n"
     ]
    }
   ],
   "source": [
    "msg_lado1 = \"Comprimento 1:\"\n",
    "msg_lado2 = \"Comprimento 2:\"\n",
    "msg_lado3 = \"Comprimento 3:\"\n",
    "\n",
    "lado1,lado2,lado3 = float(input(msg_lado1)),float(input(msg_lado2)),float(input(msg_lado3))\n",
    "\n",
    "#verifica se é um triangulo\n",
    "if lado1+lado2 > lado3 and lado2+lado3 > lado1 and lado1+lado3 > lado2:\n",
    "    triangulo = True\n",
    "else:\n",
    "    triangulo = False\n",
    "if triangulo == True and lado1!=lado2 and lado1!=lado3 and lado3!=lado2:\n",
    "#todos os lados diferentes entre si\n",
    "    status=\"Escaleno\"\n",
    "elif triangulo and lado1==lado2==lado3:\n",
    "#todos forem iguais\n",
    "#deve vir antes dos equilateros \n",
    "    status=\"Equilátero\"\n",
    "elif triangulo and lado1==lado2 or lado1==lado3 or lado3==lado2:\n",
    "#isoceles\n",
    "    status=\"Isósceles\"\n",
    "else:\n",
    "    status=\"Não é um triângulo\"\n",
    "\n",
    "print(msg_lado1,lado1)\n",
    "print(msg_lado2,lado2)\n",
    "print(msg_lado3,lado3)\n",
    "print(status)\n"
   ]
  },
  {
   "cell_type": "code",
   "execution_count": 9,
   "metadata": {},
   "outputs": [
    {
     "name": "stdout",
     "output_type": "stream",
     "text": [
      "[-10.6, 2.1, 3.0]\n"
     ]
    }
   ],
   "source": [
    "msg = \"Entre com os três números:\"\n",
    "\n",
    "n1 = float(input())\n",
    "n2 = float(input())\n",
    "n3 = float(input())\n",
    "\n",
    "lista = [n1,n2,n3]\n",
    "lista.sort()\n",
    "print(lista)"
   ]
  },
  {
   "cell_type": "code",
   "execution_count": 22,
   "metadata": {},
   "outputs": [
    {
     "name": "stdout",
     "output_type": "stream",
     "text": [
      "g\n",
      "g\n"
     ]
    }
   ],
   "source": [
    "for i in range (0,2):\n",
    "    print(\"g\")"
   ]
  },
  {
   "cell_type": "code",
   "execution_count": 47,
   "metadata": {},
   "outputs": [
    {
     "name": "stdout",
     "output_type": "stream",
     "text": [
      "2\n",
      "0\n",
      "O jogador 1 perdeu\n",
      "O jogador 2 venceu!\n"
     ]
    }
   ],
   "source": [
    "import random\n",
    "jogador1 = random.randint(0,2)\n",
    "jogador2 = int(input())\n",
    "\n",
    "msg = \"Digite 0 (pedra), 1 (papel) ou 2 (tesoura)\"\n",
    "\n",
    "\n",
    "if jogador1 == 1 and jogador2 == 0:\n",
    "    #pedra, papel\n",
    "        status1=True #jogador 1 ganhou\n",
    "        status2=False #jogador 2 perdeu\n",
    "elif jogador1 == 0 and jogador2 == 1:\n",
    "        status1=False \n",
    "        status2=True \n",
    "elif jogador1 == 1 and jogador2 == 2:\n",
    "    #papel,tesoura\n",
    "        status1=False \n",
    "        status2=True \n",
    "elif jogador1 == 2 and jogador2 == 1:\n",
    "        status1=True \n",
    "        status2=False \n",
    "elif jogador1 == 2 and jogador2 == 0:\n",
    "    #tesoura,pedra\n",
    "        status1=False \n",
    "        status2=True \n",
    "elif jogador1 == 0 and jogador2 == 2:\n",
    "        status1=False \n",
    "        status2=True\n",
    "elif jogador1 == jogador2:\n",
    "      status1=True \n",
    "      status2=True\n",
    "else:\n",
    "      status1=False\n",
    "      status2=False\n",
    "\n",
    "if status1 == True and status2 == False:\n",
    "    mensagem1 = \"O jogador 1 venceu!\"\n",
    "    mensagem2 = \"O jogador 2 perdeu\"\n",
    "elif status1 == False and status2 == True:\n",
    "    mensagem1 = \"O jogador 1 perdeu\"\n",
    "    mensagem2 = \"O jogador 2 venceu!\"    \n",
    "elif status1 == True and status2 == True:\n",
    "    mensagem1 = \"empate\"\n",
    "    mensagem2 = \"\"\n",
    "else:\n",
    "    mensagem1 = \"resultado invalido\"\n",
    "    mensagem2 = \"\"\n",
    "\n",
    "print(jogador1)\n",
    "print(jogador2)\n",
    "print(mensagem1)\n",
    "print(mensagem2)\n"
   ]
  },
  {
   "cell_type": "code",
   "execution_count": 1,
   "metadata": {},
   "outputs": [
    {
     "name": "stdout",
     "output_type": "stream",
     "text": [
      "Digite um número inteiro de até 3 dígitos: 234\n",
      "Há apenas 1 dígito ímpar em 234.\n"
     ]
    }
   ],
   "source": [
    "msg_num = \"Digite um número inteiro de até 3 dígitos:\"\n",
    "numero = str(input(msg_num))\n",
    "listNum = [int(i) for i in str(numero)]\n",
    "contador = 0\n",
    "for i in range (0,len(listNum)):\n",
    "    if listNum[i] % 2 != 0:\n",
    "        #verifica se eh impar\n",
    "        contador += 1\n",
    "        #conta o total de numeros impares\n",
    "\n",
    "if contador == 0:\n",
    "    msg_impar = f\"Não há dígitos ímpares em {numero}.\"\n",
    "elif contador == 1:\n",
    "    msg_impar = f\"Há apenas 1 dígito ímpar em {numero}.\"\n",
    "if contador > 1:\n",
    "    msg_impar = f\"Há {contador} dígitos ímpares em {numero}.\"\n",
    "\n",
    "print(msg_num,numero)\n",
    "print(msg_impar)"
   ]
  },
  {
   "cell_type": "code",
   "execution_count": null,
   "metadata": {},
   "outputs": [],
   "source": []
  }
 ],
 "metadata": {
  "kernelspec": {
   "display_name": "base",
   "language": "python",
   "name": "python3"
  },
  "language_info": {
   "codemirror_mode": {
    "name": "ipython",
    "version": 3
   },
   "file_extension": ".py",
   "mimetype": "text/x-python",
   "name": "python",
   "nbconvert_exporter": "python",
   "pygments_lexer": "ipython3",
   "version": "3.9.16"
  },
  "orig_nbformat": 4
 },
 "nbformat": 4,
 "nbformat_minor": 2
}
