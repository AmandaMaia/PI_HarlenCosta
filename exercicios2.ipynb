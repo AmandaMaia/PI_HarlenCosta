{
 "cells": [
  {
   "cell_type": "code",
   "execution_count": 1,
   "metadata": {},
   "outputs": [
    {
     "data": {
      "text/plain": [
       "3"
      ]
     },
     "execution_count": 1,
     "metadata": {},
     "output_type": "execute_result"
    }
   ],
   "source": [
    "lst=[1,2,3]\n",
    "max(lst)"
   ]
  },
  {
   "cell_type": "code",
   "execution_count": 5,
   "metadata": {},
   "outputs": [
    {
     "name": "stdout",
     "output_type": "stream",
     "text": [
      "34\n"
     ]
    }
   ],
   "source": [
    "lst = [] #cria lista vazia\n",
    "n = int(input()) #le o numero de termos para a lista\n",
    "for i in range(0,n): #insere os termos na lista po append\n",
    "    x=int(input())\n",
    "    lst.append(x)\n",
    "    \n",
    "print(max(lst))\n",
    "#no moodle, precisa dar print"
   ]
  },
  {
   "cell_type": "code",
   "execution_count": 22,
   "metadata": {},
   "outputs": [
    {
     "name": "stdout",
     "output_type": "stream",
     "text": [
      "\n",
      "Nao eh um vetor de duplas!\n"
     ]
    }
   ],
   "source": [
    "lst = [] #cria lista vazia\n",
    "n = int(input()) #le o numero de termos para a lista\n",
    "for i in range(0,n): #insere os termos na lista por append\n",
    "    x=int(input())\n",
    "    lst.append(x)\n",
    "#a partir daqui, temos a lista lst completa\n",
    "\n",
    "for i in range(0,n):\n",
    "    if i % 2 == 0:\n",
    "        #aqui dentro, if para verificar se são duplas\n",
    "        print(\"\")\n",
    "        '''\n",
    "        if lst[i] == lst[i-1]:\n",
    "            status = True\n",
    "            sts = status*True\n",
    "            ''' \n",
    "            \n",
    "    else:\n",
    "        #lista tem nº impar de termos\n",
    "        sts=False\n",
    "\n",
    "\n",
    "\n",
    "if sts:\n",
    "    print(\"Eh um vetor de duplas!\")\n",
    "else:\n",
    "    print(\"Nao eh um vetor de duplas!\")\n",
    "#no moodle, precisa dar print"
   ]
  },
  {
   "cell_type": "code",
   "execution_count": 35,
   "metadata": {},
   "outputs": [
    {
     "name": "stdout",
     "output_type": "stream",
     "text": [
      "Eh um vetor de duplas!\n"
     ]
    }
   ],
   "source": [
    "lst = [] #cria lista vazia\n",
    "n = int(input()) #le o numero de termos para a lista\n",
    "\n",
    "for i in range(0,n): #insere os termos na lista por append\n",
    "    x=int(input())\n",
    "    lst.append(x)\n",
    "#a partir daqui, temos a lista lst completa\n",
    "\n",
    "if n % 2 == 0:\n",
    "    #print(\"Eh um vetor de duplas!\")\n",
    "    if lst[i] == lst[i-1]:\n",
    "        status=True\n",
    "    else:\n",
    "        status=False\n",
    "    sts=True*status \n",
    "    if sts == True:\n",
    "        print(\"Eh um vetor de duplas!\")\n",
    "    else:\n",
    "        print(\"Nao eh um vetor de duplas!\")\n",
    "else:\n",
    "    print(\"Nao eh um vetor de duplas!\")"
   ]
  },
  {
   "cell_type": "code",
   "execution_count": null,
   "metadata": {},
   "outputs": [],
   "source": []
  }
 ],
 "metadata": {
  "kernelspec": {
   "display_name": "base",
   "language": "python",
   "name": "python3"
  },
  "language_info": {
   "codemirror_mode": {
    "name": "ipython",
    "version": 3
   },
   "file_extension": ".py",
   "mimetype": "text/x-python",
   "name": "python",
   "nbconvert_exporter": "python",
   "pygments_lexer": "ipython3",
   "version": "3.9.16"
  },
  "orig_nbformat": 4
 },
 "nbformat": 4,
 "nbformat_minor": 2
}
