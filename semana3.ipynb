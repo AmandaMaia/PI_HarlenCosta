{
 "cells": [
  {
   "attachments": {},
   "cell_type": "markdown",
   "metadata": {},
   "source": [
    "## Laços de repetição"
   ]
  },
  {
   "attachments": {},
   "cell_type": "markdown",
   "metadata": {},
   "source": [
    "Laços contáveis (for):\n",
    "\n",
    "São utilizados quando sabemos previamente o número de vezes que o código deve ser repetido. Por exemplo, podemos pedir para o usuário digitar um inteiro n e então repetir um trecho de código n vezes."
   ]
  },
  {
   "attachments": {},
   "cell_type": "markdown",
   "metadata": {},
   "source": [
    "Laços condicionais (while):\n",
    "\n",
    "São utilizados quando não sabemos de antemão o número de repetições. Um laço condicional repete um trecho de código enquanto uma condição lógica for verdadeira. Por exemplo. podemos usar um laço condicional para pedir repetidamente para o usuário digitar notas e só parar quando o usuário digitar um número negativo. Nesse caso, a condição para o laço continuar é n >= 0, onde n é o último número digitado pelo usuário."
   ]
  },
  {
   "cell_type": "code",
   "execution_count": 1,
   "metadata": {},
   "outputs": [
    {
     "name": "stdout",
     "output_type": "stream",
     "text": [
      "hi\n"
     ]
    }
   ],
   "source": [
    "print(\"hi\")"
   ]
  },
  {
   "cell_type": "code",
   "execution_count": 2,
   "metadata": {},
   "outputs": [
    {
     "name": "stdout",
     "output_type": "stream",
     "text": [
      "Iteração nº 0\n",
      "Iteração nº 1\n",
      "Iteração nº 2\n",
      "Fim do programa\n"
     ]
    }
   ],
   "source": [
    "n = int(input(\"Digite um número: \"))\n",
    "\n",
    "for i in range(n): #range n começa em 0\n",
    "    print(f\"Iteração nº {i}\")\n",
    "\n",
    "print(\"Fim do programa\")"
   ]
  },
  {
   "cell_type": "code",
   "execution_count": 3,
   "metadata": {},
   "outputs": [
    {
     "name": "stdout",
     "output_type": "stream",
     "text": [
      "10\n",
      "11\n",
      "12\n",
      "13\n",
      "14\n"
     ]
    }
   ],
   "source": [
    "for i in range(10, 15):\n",
    "    print(i)"
   ]
  },
  {
   "cell_type": "code",
   "execution_count": 4,
   "metadata": {},
   "outputs": [
    {
     "name": "stdout",
     "output_type": "stream",
     "text": [
      "-6\n",
      "-4\n",
      "-2\n",
      "0\n",
      "2\n",
      "4\n"
     ]
    }
   ],
   "source": [
    "for i in range(-6, 6, 2):\n",
    "    print(i)    "
   ]
  },
  {
   "cell_type": "code",
   "execution_count": 5,
   "metadata": {},
   "outputs": [
    {
     "name": "stdout",
     "output_type": "stream",
     "text": [
      "5\n",
      "4\n",
      "3\n",
      "2\n",
      "1\n"
     ]
    }
   ],
   "source": [
    "#contagem regressiva\n",
    "for i in range(5, 0, -1):\n",
    "    print(i)  "
   ]
  },
  {
   "cell_type": "code",
   "execution_count": 7,
   "metadata": {},
   "outputs": [
    {
     "name": "stdout",
     "output_type": "stream",
     "text": [
      "123456\n",
      "123456\n",
      "123456\n",
      "123456\n"
     ]
    }
   ],
   "source": [
    "for i in range(4):\n",
    "    for j in range(6):\n",
    "        print(j+1, end=\"\")\n",
    "    print()"
   ]
  },
  {
   "cell_type": "code",
   "execution_count": 9,
   "metadata": {},
   "outputs": [
    {
     "name": "stdout",
     "output_type": "stream",
     "text": [
      "O número tem 5 digitos\n"
     ]
    }
   ],
   "source": [
    "n = int(input(\"Digite um número positivo: \"))\n",
    "\n",
    "d = 0\n",
    "\n",
    "while n > 0:\n",
    "    d += 1\n",
    "    n = n // 10\n",
    "\n",
    "print(f\"O número tem {d} digitos\")"
   ]
  },
  {
   "cell_type": "code",
   "execution_count": 10,
   "metadata": {},
   "outputs": [
    {
     "name": "stdout",
     "output_type": "stream",
     "text": [
      "0\n",
      "1\n",
      "2\n",
      "3\n",
      "4\n"
     ]
    }
   ],
   "source": [
    "n = int(input(\"Digite o n: \"))\n",
    "\n",
    "for i in range(n):\n",
    "   print(i)"
   ]
  },
  {
   "cell_type": "code",
   "execution_count": 11,
   "metadata": {},
   "outputs": [
    {
     "name": "stdout",
     "output_type": "stream",
     "text": [
      "******\n",
      "******\n",
      "******\n",
      "******\n"
     ]
    }
   ],
   "source": [
    "for i in range(4):\n",
    "   for j in range(6):\n",
    "       print(\"*\", end=\"\")\n",
    "   print()"
   ]
  },
  {
   "cell_type": "code",
   "execution_count": 13,
   "metadata": {},
   "outputs": [
    {
     "name": "stdout",
     "output_type": "stream",
     "text": [
      "5 é um número ímpar\n",
      "3 é um número ímpar\n",
      "2 é um número par\n",
      "Fim do programa\n"
     ]
    }
   ],
   "source": [
    "while True:\n",
    "    entrada = input(\"Digite um número, ou 'sair': \")\n",
    "    if entrada == \"sair\":\n",
    "        break\n",
    "    par_impar = \"ímpar\" if int(entrada) % 2 else \"par\"\n",
    "    print(f\"{entrada} é um número {par_impar}\")\n",
    "\n",
    "print(\"Fim do programa\")"
   ]
  },
  {
   "cell_type": "code",
   "execution_count": 14,
   "metadata": {},
   "outputs": [
    {
     "name": "stdout",
     "output_type": "stream",
     "text": [
      "5\n",
      "4\n",
      "3\n",
      "2\n",
      "1\n"
     ]
    }
   ],
   "source": [
    "n = int(input(\"Digite o n: \"))\n",
    "\n",
    "while n != 0:\n",
    "   print(n)\n",
    "   n -= 1"
   ]
  },
  {
   "cell_type": "code",
   "execution_count": 15,
   "metadata": {},
   "outputs": [
    {
     "name": "stdout",
     "output_type": "stream",
     "text": [
      "Um\n",
      "Dois\n",
      "Entrada inválida\n",
      "Entrada inválida\n",
      "Entrada inválida\n",
      "Três\n",
      "Três\n",
      "Três\n"
     ]
    }
   ],
   "source": [
    "contador = 0\n",
    "\n",
    "while contador < 5:\n",
    "    n = int(input(\"Digite um número entre 1 e 3: \"))\n",
    "\n",
    "    if n < 1 or n > 3:\n",
    "        print(\"Entrada inválida\")\n",
    "        continue\n",
    "    # Dentro de um laço, podemos usar a palavra continue para pular \n",
    "    # imediatamente para a próxima iteração.\n",
    "\n",
    "    if n == 1:\n",
    "        print(\"Um\")\n",
    "    elif n == 2:\n",
    "        print(\"Dois\")\n",
    "    else:\n",
    "        print(\"Três\")\n",
    "\n",
    "    contador += 1"
   ]
  },
  {
   "attachments": {},
   "cell_type": "markdown",
   "metadata": {},
   "source": [
    "## Exercicios"
   ]
  },
  {
   "attachments": {},
   "cell_type": "markdown",
   "metadata": {},
   "source": [
    "### Exercício 3.4 - Potência usando multiplicações"
   ]
  },
  {
   "cell_type": "code",
   "execution_count": 24,
   "metadata": {},
   "outputs": [
    {
     "name": "stdout",
     "output_type": "stream",
     "text": [
      "64.0\n"
     ]
    }
   ],
   "source": [
    "b = float(input(\"base\")) #base\n",
    "pot = b\n",
    "\n",
    "while pot == b:\n",
    "    #faz com que apenas execute a conta caso o n seja positivo\n",
    "    n = int(input(\"repetições\"))\n",
    "    if n < 0:\n",
    "        continue\n",
    "    #repete o loop antes de começar a executar a conta de potencia\n",
    "\n",
    "    while n > 0: #segundo while para calculo \n",
    "        n=n-1\n",
    "        pot = pot*b #conta potencia\n",
    "print(pot)"
   ]
  },
  {
   "attachments": {},
   "cell_type": "markdown",
   "metadata": {},
   "source": [
    "### Exercício 3.6 - Soma de série"
   ]
  },
  {
   "cell_type": "code",
   "execution_count": 88,
   "metadata": {},
   "outputs": [
    {
     "name": "stdout",
     "output_type": "stream",
     "text": [
      "1.79\n"
     ]
    }
   ],
   "source": [
    "soma=0\n",
    "\n",
    "while soma == 0:\n",
    "    #faz com que apenas execute a conta caso o n seja positivo\n",
    "    n = int(input(\"repetições\"))\n",
    "    if n < 0:\n",
    "        continue\n",
    "    n=n+1 #para contar que começa no 0\n",
    "    #valida se é positivo\n",
    "    while n > 0: #segundo while para calculo \n",
    "        n=n-1\n",
    "        soma = soma + 1/((2*n)+1)  #conta soma(n)\n",
    "print(\"%.2f\"% soma)"
   ]
  },
  {
   "cell_type": "code",
   "execution_count": 81,
   "metadata": {},
   "outputs": [
    {
     "data": {
      "text/plain": [
       "'\\nn = int(input())\\nsoma = 1\\ncontador = n\\n\\nwhile contador > 0:\\n    soma = soma + 1/((2*n)+1) \\n    contador=n-1\\n    n=n+1\\n    print(contador)\\n\\n# for i in range(0,contador):\\n#     print(\"repetição no:\", contador)\\n#     soma = soma + 1/((2*n)+1) \\n#     n=n-1\\n#     print(soma)\\n\\nprint(\"%.2f\"% soma) \\n'"
      ]
     },
     "execution_count": 81,
     "metadata": {},
     "output_type": "execute_result"
    }
   ],
   "source": [
    "#deu errado\n",
    "\"\"\"\n",
    "n = int(input())\n",
    "soma = 1\n",
    "contador = n\n",
    "\n",
    "while contador > 0:\n",
    "    soma = soma + 1/((2*n)+1) \n",
    "    contador=n-1\n",
    "    n=n+1\n",
    "    print(contador)\n",
    "\n",
    "# for i in range(0,contador):\n",
    "#     print(\"repetição no:\", contador)\n",
    "#     soma = soma + 1/((2*n)+1) \n",
    "#     n=n-1\n",
    "#     print(soma)\n",
    "\n",
    "print(\"%.2f\"% soma) \n",
    "\"\"\" "
   ]
  },
  {
   "cell_type": "code",
   "execution_count": 63,
   "metadata": {},
   "outputs": [
    {
     "data": {
      "text/plain": [
       "0.14285714285714285"
      ]
     },
     "execution_count": 63,
     "metadata": {},
     "output_type": "execute_result"
    }
   ],
   "source": [
    "n = int(input())\n",
    "1/(2*n+1) "
   ]
  },
  {
   "attachments": {},
   "cell_type": "markdown",
   "metadata": {},
   "source": [
    "### Exercício 3.7 - Fatorial"
   ]
  },
  {
   "cell_type": "code",
   "execution_count": 104,
   "metadata": {},
   "outputs": [
    {
     "name": "stdout",
     "output_type": "stream",
     "text": [
      "1 2\n",
      "0 2\n",
      "2\n"
     ]
    }
   ],
   "source": [
    "n = int(input())\n",
    "reps = n\n",
    "fat=n\n",
    "\n",
    "while reps > 0:\n",
    "    reps=reps-1\n",
    "    fat = n*(n-1)\n",
    "    print(reps, fat)\n",
    "\n",
    "print(fat)"
   ]
  },
  {
   "cell_type": "code",
   "execution_count": 5,
   "metadata": {},
   "outputs": [
    {
     "name": "stdout",
     "output_type": "stream",
     "text": [
      "2\n",
      "6\n",
      "resultado final 6\n"
     ]
    }
   ],
   "source": [
    "#fatorial\n",
    "#por que? \n",
    "\n",
    "n=int(input())\n",
    "fatorial=1\n",
    "i=2\n",
    "\n",
    "while i<=n:\n",
    "    fatorial = fatorial*i\n",
    "    i=i+1\n",
    "    print(fatorial)\n",
    "print(\"resultado final:\",fatorial)"
   ]
  }
 ],
 "metadata": {
  "kernelspec": {
   "display_name": "base",
   "language": "python",
   "name": "python3"
  },
  "language_info": {
   "codemirror_mode": {
    "name": "ipython",
    "version": 3
   },
   "file_extension": ".py",
   "mimetype": "text/x-python",
   "name": "python",
   "nbconvert_exporter": "python",
   "pygments_lexer": "ipython3",
   "version": "3.9.16"
  },
  "orig_nbformat": 4
 },
 "nbformat": 4,
 "nbformat_minor": 2
}
