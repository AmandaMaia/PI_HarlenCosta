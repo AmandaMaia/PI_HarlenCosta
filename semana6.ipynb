{
 "cells": [
  {
   "attachments": {},
   "cell_type": "markdown",
   "metadata": {},
   "source": [
    "## Listas"
   ]
  },
  {
   "cell_type": "code",
   "execution_count": 2,
   "metadata": {},
   "outputs": [],
   "source": [
    "# Criando uma lista de 10 inteiros\n",
    "lst = [10, 5, -4, 7, 21, 3, 3, 9, 42, 0]"
   ]
  },
  {
   "attachments": {},
   "cell_type": "markdown",
   "metadata": {},
   "source": [
    "tipo da lista"
   ]
  },
  {
   "cell_type": "code",
   "execution_count": 3,
   "metadata": {},
   "outputs": [
    {
     "data": {
      "text/plain": [
       "list"
      ]
     },
     "execution_count": 3,
     "metadata": {},
     "output_type": "execute_result"
    }
   ],
   "source": [
    "type(lst)"
   ]
  },
  {
   "cell_type": "code",
   "execution_count": 5,
   "metadata": {},
   "outputs": [
    {
     "data": {
      "text/plain": [
       "10"
      ]
     },
     "execution_count": 5,
     "metadata": {},
     "output_type": "execute_result"
    }
   ],
   "source": [
    "lst[0] \n",
    "#pega o item da lista na posição 0"
   ]
  },
  {
   "cell_type": "code",
   "execution_count": 6,
   "metadata": {},
   "outputs": [],
   "source": [
    "lst[1] = lst[0] * 2"
   ]
  },
  {
   "cell_type": "code",
   "execution_count": 7,
   "metadata": {},
   "outputs": [
    {
     "data": {
      "text/plain": [
       "[10, 20, -4, 7, 21, 3, 3, 9, 42, 0]"
      ]
     },
     "execution_count": 7,
     "metadata": {},
     "output_type": "execute_result"
    }
   ],
   "source": [
    "lst "
   ]
  },
  {
   "attachments": {},
   "cell_type": "markdown",
   "metadata": {},
   "source": [
    "tamanho da lista"
   ]
  },
  {
   "cell_type": "code",
   "execution_count": null,
   "metadata": {},
   "outputs": [],
   "source": [
    "len(lst)"
   ]
  },
  {
   "cell_type": "code",
   "execution_count": null,
   "metadata": {},
   "outputs": [],
   "source": [
    "x=[20, 5.2, False, \"UFABC\"]\n",
    "#podem conter diferentes tipos de variáveis \n",
    "len(x) #tamanho da lista "
   ]
  },
  {
   "cell_type": "code",
   "execution_count": 10,
   "metadata": {},
   "outputs": [
    {
     "data": {
      "text/plain": [
       "['U', 'F', 'A', 'B', 'C']"
      ]
     },
     "execution_count": 10,
     "metadata": {},
     "output_type": "execute_result"
    }
   ],
   "source": [
    "#quebra os termos da lista para termos separados\n",
    "x = list(\"UFABC\")\n",
    "x"
   ]
  },
  {
   "cell_type": "code",
   "execution_count": 11,
   "metadata": {},
   "outputs": [
    {
     "data": {
      "text/plain": [
       "'UFABC'"
      ]
     },
     "execution_count": 11,
     "metadata": {},
     "output_type": "execute_result"
    }
   ],
   "source": [
    "y = ''.join(x)\n",
    "y\n",
    "#junta os termos da lista usando '' como separador, ou seja, sem espaço\n"
   ]
  },
  {
   "attachments": {},
   "cell_type": "markdown",
   "metadata": {},
   "source": [
    "função join\n",
    "\n",
    "une os termos da lista usando o separador desejado"
   ]
  },
  {
   "cell_type": "code",
   "execution_count": 12,
   "metadata": {},
   "outputs": [
    {
     "data": {
      "text/plain": [
       "'U-F-A-B-C'"
      ]
     },
     "execution_count": 12,
     "metadata": {},
     "output_type": "execute_result"
    }
   ],
   "source": [
    "z = '-'.join(x)\n",
    "z\n",
    "#junta os termos da lista usando '-' como separador"
   ]
  },
  {
   "attachments": {},
   "cell_type": "markdown",
   "metadata": {},
   "source": [
    "função split\n",
    "\n",
    "separa uma frase em listas a partir do separados desejado"
   ]
  },
  {
   "cell_type": "code",
   "execution_count": 13,
   "metadata": {},
   "outputs": [
    {
     "data": {
      "text/plain": [
       "['Universidade', 'Federal', 'do', 'ABC']"
      ]
     },
     "execution_count": 13,
     "metadata": {},
     "output_type": "execute_result"
    }
   ],
   "source": [
    "x=\"Universidade Federal do ABC\"\n",
    "x.split()\n",
    "#faz um split a cada palavra\n",
    "#é o automatico"
   ]
  },
  {
   "cell_type": "code",
   "execution_count": 14,
   "metadata": {},
   "outputs": [
    {
     "data": {
      "text/plain": [
       "['Univ', 'rsidad', ' F', 'd', 'ral do ABC']"
      ]
     },
     "execution_count": 14,
     "metadata": {},
     "output_type": "execute_result"
    }
   ],
   "source": [
    "x.split('e')\n",
    "#pode-se epecificar um separador "
   ]
  },
  {
   "attachments": {},
   "cell_type": "markdown",
   "metadata": {},
   "source": [
    "concatenação de listas"
   ]
  },
  {
   "cell_type": "code",
   "execution_count": 17,
   "metadata": {},
   "outputs": [
    {
     "data": {
      "text/plain": [
       "[10, 20, 30, 40]"
      ]
     },
     "execution_count": 17,
     "metadata": {},
     "output_type": "execute_result"
    }
   ],
   "source": [
    "[10, 20] + [30, 40]"
   ]
  },
  {
   "attachments": {},
   "cell_type": "markdown",
   "metadata": {},
   "source": [
    "imprime o valor da lista quantas vezes forem desejadas"
   ]
  },
  {
   "cell_type": "code",
   "execution_count": 18,
   "metadata": {},
   "outputs": [
    {
     "data": {
      "text/plain": [
       "[0, 1, 0, 1, 0, 1, 0, 1, 0, 1, 0, 1, 0, 1, 0, 1, 0, 1, 0, 1]"
      ]
     },
     "execution_count": 18,
     "metadata": {},
     "output_type": "execute_result"
    }
   ],
   "source": [
    "[0,1] * 10"
   ]
  },
  {
   "attachments": {},
   "cell_type": "markdown",
   "metadata": {},
   "source": [
    "remove um valor da lista \n",
    "\n",
    "pega pelo valor dado"
   ]
  },
  {
   "cell_type": "code",
   "execution_count": 20,
   "metadata": {},
   "outputs": [
    {
     "data": {
      "text/plain": [
       "[5, 2, 3]"
      ]
     },
     "execution_count": 20,
     "metadata": {},
     "output_type": "execute_result"
    }
   ],
   "source": [
    "x=[5, 10, 2, 3]\n",
    "x.remove(10)\n",
    "x"
   ]
  },
  {
   "attachments": {},
   "cell_type": "markdown",
   "metadata": {},
   "source": [
    "Inserindo elementos em uma lista\n",
    "\n",
    "Insere na ordem desejada"
   ]
  },
  {
   "cell_type": "code",
   "execution_count": 24,
   "metadata": {},
   "outputs": [
    {
     "data": {
      "text/plain": [
       "['Universidade', 'Federal', 'do', 'ABC']"
      ]
     },
     "execution_count": 24,
     "metadata": {},
     "output_type": "execute_result"
    }
   ],
   "source": [
    "x=[\"Universidade\", \"Federal\", \"ABC\"]\n",
    "x.insert(2, \"do\")\n",
    "x"
   ]
  },
  {
   "attachments": {},
   "cell_type": "markdown",
   "metadata": {},
   "source": [
    "insere no final da lista"
   ]
  },
  {
   "cell_type": "code",
   "execution_count": 26,
   "metadata": {},
   "outputs": [
    {
     "data": {
      "text/plain": [
       "[5, 10, 2, 3]"
      ]
     },
     "execution_count": 26,
     "metadata": {},
     "output_type": "execute_result"
    }
   ],
   "source": [
    "x=[5, 10, 2]\n",
    "y=3\n",
    "x.append(y)\n",
    "x"
   ]
  },
  {
   "attachments": {},
   "cell_type": "markdown",
   "metadata": {},
   "source": [
    "apagar valor da lista pelo indice"
   ]
  },
  {
   "cell_type": "code",
   "execution_count": 21,
   "metadata": {},
   "outputs": [],
   "source": [
    "x=[5, 10, 2, 3]\n",
    "del x[1]"
   ]
  },
  {
   "attachments": {},
   "cell_type": "markdown",
   "metadata": {},
   "source": [
    "O método pop(indice) remove o elemento de índice indice e retorna o valor removido. Se indice não for especificado, o elemento removido será o último da lista."
   ]
  },
  {
   "cell_type": "code",
   "execution_count": 22,
   "metadata": {},
   "outputs": [
    {
     "data": {
      "text/plain": [
       "10"
      ]
     },
     "execution_count": 22,
     "metadata": {},
     "output_type": "execute_result"
    }
   ],
   "source": [
    "x=[5, 10, 2, 3]\n",
    "x.pop(1) "
   ]
  },
  {
   "attachments": {},
   "cell_type": "markdown",
   "metadata": {},
   "source": [
    "## Indexação negativa\n",
    "Em Python, podemos usar números negativos para indexar uma lista:\n",
    "\n",
    "O elemento de índice -1 é o último elemento da lista,\n",
    "o elemento de índice -2 é o penúltimo elemento da lista,\n",
    "e assim por diante..."
   ]
  },
  {
   "cell_type": "code",
   "execution_count": 27,
   "metadata": {},
   "outputs": [
    {
     "data": {
      "text/plain": [
       "2"
      ]
     },
     "execution_count": 27,
     "metadata": {},
     "output_type": "execute_result"
    }
   ],
   "source": [
    "x=[5, 10, 2]\n",
    "x[-1]"
   ]
  },
  {
   "cell_type": "code",
   "execution_count": 28,
   "metadata": {},
   "outputs": [
    {
     "data": {
      "text/plain": [
       "[10, 2]"
      ]
     },
     "execution_count": 28,
     "metadata": {},
     "output_type": "execute_result"
    }
   ],
   "source": [
    "x=[5, 10, 2, 3, 7, -1]\n",
    "x[1:3]"
   ]
  },
  {
   "cell_type": "code",
   "execution_count": 29,
   "metadata": {},
   "outputs": [
    {
     "data": {
      "text/plain": [
       "[5, 2, 7]"
      ]
     },
     "execution_count": 29,
     "metadata": {},
     "output_type": "execute_result"
    }
   ],
   "source": [
    "x[0:len(x):2] "
   ]
  },
  {
   "attachments": {},
   "cell_type": "markdown",
   "metadata": {},
   "source": [
    "Se criarmos uma lista a e então fizermos b = a (atribuição de a em b), b não será uma cópia de a, como seria esperado. A princípio até pode parecer uma cópia, mas não é. Veja o exemplo a seguir:\n",
    "\n",
    "> a=[5, 10, 2, 3]\n",
    "\n",
    "> b=a\n",
    "\n",
    "> b\n",
    "\n",
    "> [5, 10, 2, 3]\n",
    "\n",
    "Parece que b é uma cópia de a. Mas veja o que acontece com b quando modificamos algum elemento de a:\n",
    "\n",
    "> a[0]=42\n",
    "\n",
    "> a\n",
    "\n",
    "> [42, 10, 2, 3]\n",
    "\n",
    "> b\n",
    "\n",
    "> [42, 10, 2, 3]\n",
    "\n",
    "O primeiro elemento de b também foi modificado! Isso ocorre pois b é uma referência à a. Em outras palavras, tudo o que acontece com a também acontece com b. De fato, a e b são apenas nomes diferentes que se referem à mesma sequência de valores na memória. Esse comportamento também ocorre quando passamos uma lista como argumento de uma função."
   ]
  },
  {
   "attachments": {},
   "cell_type": "markdown",
   "metadata": {},
   "source": [
    "## Iterando sobre uma lista\n",
    "Com o uso de indexação podemos fazer um laço for que visita os elementos de uma lista. O exemplo a seguir itera sobre os elementos de uma lista x, mostrando cada elemento na tela com o print():"
   ]
  },
  {
   "cell_type": "code",
   "execution_count": 30,
   "metadata": {},
   "outputs": [
    {
     "name": "stdout",
     "output_type": "stream",
     "text": [
      "5\n",
      "10\n",
      "2\n",
      "3\n"
     ]
    }
   ],
   "source": [
    "x = [5, 10, 2, 3]\n",
    "for i in range(len(x)):\n",
    "    print(x[i]) "
   ]
  },
  {
   "attachments": {},
   "cell_type": "markdown",
   "metadata": {},
   "source": [
    "## Outros métodos de `list`\n",
    "\n",
    "Método        | Descrição\n",
    ":-----        | :-----    \n",
    "`clear()`     | Remove todos os elementos da lista.\n",
    "`count(valor)`| Retorna a quantidade de elementos com o valor `valor`.\n",
    "`index(valor)`| Retorna o índice da primeira ocorrência do valor `valor`.\n",
    "`reverse()`   | Reverte a ordem os elementos da lista.\n",
    "`sort()`      | Ordena a lista em ordem crescente."
   ]
  },
  {
   "attachments": {},
   "cell_type": "markdown",
   "metadata": {},
   "source": [
    "# Exercicios"
   ]
  },
  {
   "attachments": {},
   "cell_type": "markdown",
   "metadata": {},
   "source": [
    "### Exercício 6.1 - Média de notas"
   ]
  },
  {
   "cell_type": "code",
   "execution_count": 32,
   "metadata": {},
   "outputs": [
    {
     "name": "stdout",
     "output_type": "stream",
     "text": [
      "Lista: [1, 2]\n",
      "Média: 1.5\n"
     ]
    }
   ],
   "source": [
    "n = int(input())\n",
    "notas = []\n",
    "for i in range (0,n):\n",
    "    x=int(input())\n",
    "    notas.append(x)\n",
    "media = sum(notas)/len(notas)\n",
    "\n",
    "print(f'Lista: {notas}')\n",
    "print(f'Média: {media}')\n"
   ]
  },
  {
   "attachments": {},
   "cell_type": "markdown",
   "metadata": {},
   "source": [
    "### Exercício 6.2 - Classificação por média"
   ]
  },
  {
   "cell_type": "code",
   "execution_count": 50,
   "metadata": {},
   "outputs": [
    {
     "data": {
      "text/plain": [
       "['abaixo', 'acima', 'acima', 'acima', 'abaixo']"
      ]
     },
     "execution_count": 50,
     "metadata": {},
     "output_type": "execute_result"
    }
   ],
   "source": [
    "n = int(input())\n",
    "v = []\n",
    "\n",
    "for i in range (0,n):\n",
    "    x=int(input())\n",
    "    v.append(x)\n",
    "    \n",
    "media = sum(notas)/len(notas)\n",
    "\n",
    "def classificar_notas(v):\n",
    "    lst=[]\n",
    "    media = sum(notas)/len(notas)\n",
    "    for elem in v:\n",
    "        if elem < media:\n",
    "            lst+=[\"abaixo\"]\n",
    "        else:\n",
    "            lst+=[\"acima\"]\n",
    "    return lst\n",
    "\n",
    "classificar_notas(v) "
   ]
  },
  {
   "attachments": {},
   "cell_type": "markdown",
   "metadata": {},
   "source": [
    "### Exercício 6.3 - Número de ocorrências"
   ]
  },
  {
   "cell_type": "code",
   "execution_count": 53,
   "metadata": {},
   "outputs": [
    {
     "data": {
      "text/plain": [
       "3"
      ]
     },
     "execution_count": 53,
     "metadata": {},
     "output_type": "execute_result"
    }
   ],
   "source": [
    "def ocorrencias(valor,lista):\n",
    "    cont = 0\n",
    "    for elem in lista:\n",
    "        if elem == valor:\n",
    "            cont+=1\n",
    "    return(cont)\n",
    "\n",
    "ocorrencias(5,[5,2,3,5,5,2])"
   ]
  }
 ],
 "metadata": {
  "kernelspec": {
   "display_name": "base",
   "language": "python",
   "name": "python3"
  },
  "language_info": {
   "codemirror_mode": {
    "name": "ipython",
    "version": 3
   },
   "file_extension": ".py",
   "mimetype": "text/x-python",
   "name": "python",
   "nbconvert_exporter": "python",
   "pygments_lexer": "ipython3",
   "version": "3.9.16"
  },
  "orig_nbformat": 4
 },
 "nbformat": 4,
 "nbformat_minor": 2
}
