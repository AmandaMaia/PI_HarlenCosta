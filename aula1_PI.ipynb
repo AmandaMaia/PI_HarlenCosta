{
 "cells": [
  {
   "cell_type": "code",
   "execution_count": 24,
   "metadata": {},
   "outputs": [],
   "source": [
    "import math"
   ]
  },
  {
   "attachments": {},
   "cell_type": "markdown",
   "metadata": {},
   "source": [
    "## introdução"
   ]
  },
  {
   "cell_type": "code",
   "execution_count": 2,
   "metadata": {},
   "outputs": [
    {
     "data": {
      "text/plain": [
       "5"
      ]
     },
     "execution_count": 2,
     "metadata": {},
     "output_type": "execute_result"
    }
   ],
   "source": [
    "#converter numero para binario\n",
    "int(\"101\",2) #digitar numero em binario e base que deseja converter, no caso 2"
   ]
  },
  {
   "cell_type": "code",
   "execution_count": 6,
   "metadata": {},
   "outputs": [
    {
     "data": {
      "text/plain": [
       "'0b11111111'"
      ]
     },
     "execution_count": 6,
     "metadata": {},
     "output_type": "execute_result"
    }
   ],
   "source": [
    "bin(255)"
   ]
  },
  {
   "cell_type": "code",
   "execution_count": 7,
   "metadata": {},
   "outputs": [
    {
     "data": {
      "text/plain": [
       "'0xff'"
      ]
     },
     "execution_count": 7,
     "metadata": {},
     "output_type": "execute_result"
    }
   ],
   "source": [
    "hex(255)"
   ]
  },
  {
   "cell_type": "code",
   "execution_count": 25,
   "metadata": {},
   "outputs": [
    {
     "name": "stdout",
     "output_type": "stream",
     "text": [
      "PI-UFABC\n",
      "42\n"
     ]
    }
   ],
   "source": [
    "x = 42\n",
    "y = \"PI-UFABC\"\n",
    "\n",
    "aux = x\n",
    "x=y\n",
    "y=aux\n",
    "\n",
    "print(x)\n",
    "print(y)"
   ]
  },
  {
   "cell_type": "code",
   "execution_count": 26,
   "metadata": {},
   "outputs": [
    {
     "data": {
      "text/plain": [
       "str"
      ]
     },
     "execution_count": 26,
     "metadata": {},
     "output_type": "execute_result"
    }
   ],
   "source": [
    "type(\"Que tipo de dado é esse?\")"
   ]
  },
  {
   "cell_type": "code",
   "execution_count": 27,
   "metadata": {},
   "outputs": [
    {
     "data": {
      "text/plain": [
       "bool"
      ]
     },
     "execution_count": 27,
     "metadata": {},
     "output_type": "execute_result"
    }
   ],
   "source": [
    "type(True)"
   ]
  },
  {
   "cell_type": "code",
   "execution_count": 28,
   "metadata": {},
   "outputs": [
    {
     "data": {
      "text/plain": [
       "float"
      ]
     },
     "execution_count": 28,
     "metadata": {},
     "output_type": "execute_result"
    }
   ],
   "source": [
    "type(5.2 + 4)"
   ]
  },
  {
   "cell_type": "code",
   "execution_count": 29,
   "metadata": {},
   "outputs": [
    {
     "data": {
      "text/plain": [
       "15"
      ]
     },
     "execution_count": 29,
     "metadata": {},
     "output_type": "execute_result"
    }
   ],
   "source": [
    "x=\"10\"\n",
    "y=\"5\"\n",
    "int(x) + int(y)\n",
    "15"
   ]
  },
  {
   "cell_type": "code",
   "execution_count": 30,
   "metadata": {},
   "outputs": [
    {
     "name": "stdout",
     "output_type": "stream",
     "text": [
      "Olá, o. Tudo bem?\n"
     ]
    }
   ],
   "source": [
    "nome = input(\"Digite o seu nome: \")\n",
    "print(\"Olá, \" + nome + \". Tudo bem?\")"
   ]
  },
  {
   "cell_type": "code",
   "execution_count": 31,
   "metadata": {},
   "outputs": [
    {
     "name": "stdout",
     "output_type": "stream",
     "text": [
      "Olá, o. Tudo bem?\n"
     ]
    }
   ],
   "source": [
    "print(\"Olá, {}. Tudo bem?\".format(nome))"
   ]
  },
  {
   "cell_type": "code",
   "execution_count": 32,
   "metadata": {},
   "outputs": [
    {
     "data": {
      "text/plain": [
       "'blábláblá'"
      ]
     },
     "execution_count": 32,
     "metadata": {},
     "output_type": "execute_result"
    }
   ],
   "source": [
    "\"blá\" * 3"
   ]
  },
  {
   "cell_type": "code",
   "execution_count": 33,
   "metadata": {},
   "outputs": [
    {
     "data": {
      "text/plain": [
       "3.0"
      ]
     },
     "execution_count": 33,
     "metadata": {},
     "output_type": "execute_result"
    }
   ],
   "source": [
    "9**0.5"
   ]
  },
  {
   "cell_type": "code",
   "execution_count": 34,
   "metadata": {},
   "outputs": [
    {
     "data": {
      "text/plain": [
       "3.0"
      ]
     },
     "execution_count": 34,
     "metadata": {},
     "output_type": "execute_result"
    }
   ],
   "source": [
    "math.sqrt(9)"
   ]
  },
  {
   "cell_type": "code",
   "execution_count": 35,
   "metadata": {},
   "outputs": [
    {
     "data": {
      "text/plain": [
       "False"
      ]
     },
     "execution_count": 35,
     "metadata": {},
     "output_type": "execute_result"
    }
   ],
   "source": [
    "x==y"
   ]
  },
  {
   "cell_type": "code",
   "execution_count": 36,
   "metadata": {},
   "outputs": [
    {
     "name": "stdout",
     "output_type": "stream",
     "text": [
      "-8\n"
     ]
    }
   ],
   "source": [
    "x = 3\n",
    "y = 2\n",
    "z = - x ** 2 + 1 % y\n",
    "print(z) "
   ]
  },
  {
   "cell_type": "code",
   "execution_count": 37,
   "metadata": {},
   "outputs": [
    {
     "data": {
      "text/plain": [
       "-8"
      ]
     },
     "execution_count": 37,
     "metadata": {},
     "output_type": "execute_result"
    }
   ],
   "source": [
    "-(x ** 2) + (1 % y)"
   ]
  },
  {
   "attachments": {},
   "cell_type": "markdown",
   "metadata": {},
   "source": [
    "## Exercicios"
   ]
  },
  {
   "attachments": {},
   "cell_type": "markdown",
   "metadata": {},
   "source": [
    "### media "
   ]
  },
  {
   "cell_type": "code",
   "execution_count": 38,
   "metadata": {},
   "outputs": [
    {
     "name": "stdout",
     "output_type": "stream",
     "text": [
      "A média é 1.5\n"
     ]
    }
   ],
   "source": [
    "nota1 = int(input(\"Digite a nota 1:\"))\n",
    "nota2 = int(input(\"Digite a nota 2:\"))\n",
    "media = (nota1 + nota2) / 2\n",
    "print(f\"A média é {media}\")"
   ]
  },
  {
   "cell_type": "code",
   "execution_count": 39,
   "metadata": {},
   "outputs": [
    {
     "name": "stdout",
     "output_type": "stream",
     "text": [
      "A média é 2.0\n"
     ]
    }
   ],
   "source": [
    "nota1 = float(input(\"Digite a nota 1:\"))\n",
    "nota2 = float(input(\"Digite a nota 2:\"))\n",
    "media = (0.3*nota1 + 0.7*nota2)\n",
    "print(f\"A média é {media}\")"
   ]
  },
  {
   "cell_type": "code",
   "execution_count": 40,
   "metadata": {},
   "outputs": [
    {
     "name": "stdout",
     "output_type": "stream",
     "text": [
      "A média de acordo com o plano de ensino de PI é 2.2\n"
     ]
    }
   ],
   "source": [
    "nota1 = float(input(\"Digite a nota 1:\"))\n",
    "nota2 = float(input(\"Digite a nota 2:\"))\n",
    "eps = float(input(\"Digite a média das atividades:\"))\n",
    "while eps > 0.5:\n",
    "    eps = float(input(\"Digite a média das atividades (entre 0 e 0.5):\"))\n",
    "media = (0.4*nota1 + 0.6*nota2) + eps\n",
    "print(f\"A média de acordo com o plano de ensino de PI é {media}\")"
   ]
  },
  {
   "attachments": {},
   "cell_type": "markdown",
   "metadata": {},
   "source": [
    "### ano de nascimento"
   ]
  },
  {
   "cell_type": "code",
   "execution_count": 41,
   "metadata": {},
   "outputs": [
    {
     "name": "stdout",
     "output_type": "stream",
     "text": [
      "Qual é o seu nome? 5\n",
      "Qual é a sua idade? 5\n",
      "5, você nasceu no ano 2018.\n"
     ]
    }
   ],
   "source": [
    "nome = str(input(\"Digite o seu nome:\"))\n",
    "idade = int(input(\"Digite a sua idade:\"))\n",
    "nasc = 2023-idade\n",
    "\n",
    "print(\"Qual é o seu nome? {}\".format(nome))\n",
    "print(\"Qual é a sua idade? {}\".format(idade))\n",
    "print(\"{}, você nasceu no ano {}.\".format(nome,nasc))"
   ]
  },
  {
   "attachments": {},
   "cell_type": "markdown",
   "metadata": {},
   "source": [
    "### parte inteira e fracionaria "
   ]
  },
  {
   "cell_type": "code",
   "execution_count": 42,
   "metadata": {},
   "outputs": [
    {
     "name": "stdout",
     "output_type": "stream",
     "text": [
      "0.0\n"
     ]
    }
   ],
   "source": [
    "num = float(input(\"digite um numero:\"))\n",
    "print(num%1)"
   ]
  },
  {
   "attachments": {},
   "cell_type": "markdown",
   "metadata": {},
   "source": [
    "### Distancia entre cidades"
   ]
  },
  {
   "cell_type": "code",
   "execution_count": 43,
   "metadata": {},
   "outputs": [
    {
     "name": "stdout",
     "output_type": "stream",
     "text": [
      "Em qual km da rodovia a cidade 1 está localizada? 5\n",
      "Em qual km da rodovia a cidade 2 está localizada? 5\n",
      "A distancia entre as duas cidades é de 0 km.\n"
     ]
    }
   ],
   "source": [
    "cid1=0\n",
    "cid2=0\n",
    "#while para que nao aceite negativos\n",
    "while cid1<=0:\n",
    "    cid1=float(input(\"Distancia da cidade 1:\"))\n",
    "while cid2<=0:\n",
    "    cid2=float(input(\"Distancia da cidade 2:\"))\n",
    "\n",
    "print(\"Em qual km da rodovia a cidade 1 está localizada? {}\".format(int(cid1)))\n",
    "print(\"Em qual km da rodovia a cidade 2 está localizada? {}\".format(int(cid2)))\n",
    "print(\"A distancia entre as duas cidades é de {} km.\".format(int(abs(cid2-cid1))))"
   ]
  },
  {
   "attachments": {},
   "cell_type": "markdown",
   "metadata": {},
   "source": [
    "### Bhaskara"
   ]
  },
  {
   "cell_type": "code",
   "execution_count": 64,
   "metadata": {},
   "outputs": [
    {
     "name": "stdout",
     "output_type": "stream",
     "text": [
      "As raizes são x1= -6.0 e x2= -9.0\n",
      "1\n"
     ]
    }
   ],
   "source": [
    "a = int(input(\"Entre com o valor de a:\"))\n",
    "b = int(input(\"Entre com o valor de b:\"))\n",
    "c = int(input(\"Entre com o valor de c:\"))\n",
    "\n",
    "#x1=(-b+(math.sqrt((b**2)-(4*a*c))))/2*a\n",
    "#x2=(-b-(math.sqrt((b**2)-(4*a*c))))/2*a\n",
    "\n",
    "delta = b**2 - 4*a*c\n",
    "x1 = (-b + delta**0.5)/2*a\n",
    "x2 = (-b - delta**0.5)/2*a\n",
    "\n",
    "print(\"As raizes são x1= {} e x2= {}\".format(x1,x2))\n",
    "print(delta)"
   ]
  },
  {
   "attachments": {},
   "cell_type": "markdown",
   "metadata": {},
   "source": [
    "## funcoes"
   ]
  },
  {
   "cell_type": "code",
   "execution_count": 65,
   "metadata": {},
   "outputs": [],
   "source": [
    "def soma(a, b):\n",
    "    c = a + b\n",
    "    return c"
   ]
  },
  {
   "cell_type": "code",
   "execution_count": 66,
   "metadata": {},
   "outputs": [
    {
     "name": "stdout",
     "output_type": "stream",
     "text": [
      "12\n"
     ]
    }
   ],
   "source": [
    "# Definição da função soma\n",
    "def soma(a, b):\n",
    "    c = a + b\n",
    "    return c\n",
    "\n",
    "# Exemplo de uso da função soma\n",
    "x = 2\n",
    "y = soma(10, x)\n",
    "print(y) # A saída na tela será 12"
   ]
  },
  {
   "cell_type": "code",
   "execution_count": 67,
   "metadata": {},
   "outputs": [
    {
     "name": "stdout",
     "output_type": "stream",
     "text": [
      "Olá! Seja bem-vindo/a\n"
     ]
    }
   ],
   "source": [
    "def saudacao():\n",
    "    \"\"\"Retorna uma mensagem de saudação.\"\"\"\n",
    "    return \"Olá!\"\n",
    "\n",
    "print(f\"{saudacao()} Seja bem-vindo/a\")"
   ]
  },
  {
   "cell_type": "code",
   "execution_count": 68,
   "metadata": {},
   "outputs": [],
   "source": [
    "def soma(a, b):\n",
    "    \"\"\"Retorna a soma de a e b.\"\"\"\n",
    "    return a + b"
   ]
  },
  {
   "cell_type": "code",
   "execution_count": 69,
   "metadata": {},
   "outputs": [
    {
     "name": "stdout",
     "output_type": "stream",
     "text": [
      "Universidade Federal do ABC\n",
      "Processamento da Informação\n"
     ]
    }
   ],
   "source": [
    "def imprime_ufabc():\n",
    "  \"\"\"Imprime na tela o nome da universidade.\"\"\"\n",
    "  print(\"Universidade Federal do ABC\")\n",
    "\n",
    "def imprime_pi():\n",
    "  \"\"\"Imprime na tela o nome da disciplina.\"\"\"\n",
    "  print(\"Processamento da Informação\")\n",
    "  return\n",
    "  print(\"Oops, essa linha nunca será alcançada!\")\n",
    "\n",
    "imprime_ufabc()\n",
    "imprime_pi()"
   ]
  }
 ],
 "metadata": {
  "kernelspec": {
   "display_name": "base",
   "language": "python",
   "name": "python3"
  },
  "language_info": {
   "codemirror_mode": {
    "name": "ipython",
    "version": 3
   },
   "file_extension": ".py",
   "mimetype": "text/x-python",
   "name": "python",
   "nbconvert_exporter": "python",
   "pygments_lexer": "ipython3",
   "version": "3.9.16"
  },
  "orig_nbformat": 4
 },
 "nbformat": 4,
 "nbformat_minor": 2
}
