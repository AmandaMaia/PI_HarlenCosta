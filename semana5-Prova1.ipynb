{
 "cells": [
  {
   "cell_type": "code",
   "execution_count": null,
   "metadata": {},
   "outputs": [],
   "source": [
    "#terminou os exercicios da semana 4\n",
    "#aula de revisão"
   ]
  },
  {
   "attachments": {},
   "cell_type": "markdown",
   "metadata": {},
   "source": [
    "# Prova 1\n",
    "\n",
    "28/05"
   ]
  },
  {
   "cell_type": "code",
   "execution_count": null,
   "metadata": {},
   "outputs": [],
   "source": [
    "\"\"\"\n",
    "As fases da Lua referem-se à mudança aparente da porção visível iluminada do satélite devido a sua variação da posição em relação à Terra e ao Sol. O ciclo completo, denominado lunação, leva pouco mais de 29 dias para se completar. Nesse período, a lua passa da fase nova, quando a sua porção iluminada visível passa a aumentar gradualmente até que, duas semanas depois ocorre a lua cheia e, cerca de duas semanas seguintes, volta a diminuir e o satélite entra novamente na fase nova.\n",
    "\n",
    "Foi convencionado que, em duas avaliações realizadas em duas noites consecutivas é possível informar em qual fase a lua se encontra:\n",
    "\n",
    "se a porção visível da lua no momento estiver entre 0% e 2%, é lua nova;\n",
    "se estiver entre 3% e 96%, é lua crescente;\n",
    "se estiver entre 97% e 100%, é lua cheia;\n",
    "se estiver entre 96% e 3% (diminuindo), é lua minguante.\n",
    "Faça uma função lua(m1, m2), onde m1 e m2 são inteiros no intervalo [0,100]. m1 é a medida de porção visível da Lua na primeira noite; m2 é a medida na segunda noite.\n",
    "\n",
    "A função deve imprimir na tela uma das seguinte palavras: Nova, Cheia, Crescente ou Minguante, de acordo com a convenção explicada.\n",
    "\n",
    "Exemplos:\n",
    "\n",
    "lua(0, 2)\n",
    "Nova\n",
    "lua(2, 3)\n",
    "Crescente\n",
    "lua(99, 97)\n",
    "Cheia\n",
    "lua(97, 94)\n",
    "Minguante\n",
    "\"\"\""
   ]
  },
  {
   "cell_type": "code",
   "execution_count": 1,
   "metadata": {},
   "outputs": [
    {
     "name": "stdout",
     "output_type": "stream",
     "text": [
      "Crescente\n"
     ]
    }
   ],
   "source": [
    "#fases da lua\n",
    "import random as rd \n",
    "9\n",
    "#pega os valores dos dias pelo input do usuario, mas também gera aleatoriamente \n",
    "dia1 = int(input()) #rd.randint(0,100)\n",
    "dia2 = int(input()) #rd.randint(0,100)\n",
    "\n",
    "def lua(m1,m2):\n",
    "  media = (m1+m2)/2\n",
    "  if media <=2:\n",
    "    status = \"Nova\"\n",
    "  elif media > 2 and media <= 96 and m2>m1: #crescente\n",
    "    status = \"Crescente\"\n",
    "  elif media > 96:\n",
    "    status = \"Cheia\"\n",
    "  elif media > 2 and media <= 96 and m1>m2: #diminuindo:\n",
    "    status = \"Minguante\"\n",
    "  return status\n",
    "\n",
    "print(lua(dia1,dia2))\n"
   ]
  },
  {
   "cell_type": "code",
   "execution_count": null,
   "metadata": {},
   "outputs": [],
   "source": [
    "\"\"\"\n",
    "Escreva um programa que leia do teclado um número inteiro n e, em seguida, leia n números inteiros positivos (n>0). Ao final, o programa deverá mostrar na tela qual foi o menor número divisível por 3. Se nenhum número for divisível por 3, o programa deve mostrar a mensagem \"Nenhum número é divisível por 3\".\n",
    "\n",
    "Exemplos:\n",
    "\n",
    "Entre a quantidade de números: 6\n",
    "7\n",
    "2\n",
    "55\n",
    "18\n",
    "9\n",
    "1\n",
    "O menor número divisível por 3 é 9\n",
    "Entre a quantidade de números: 3\n",
    "10\n",
    "5\n",
    "4\n",
    "Nenhum número é divisível por 3\n",
    "\"\"\""
   ]
  },
  {
   "cell_type": "code",
   "execution_count": null,
   "metadata": {},
   "outputs": [],
   "source": [
    "reps = int(input(\"Entre a quantidade de números: \"))\n",
    "n=reps\n",
    "div3 = 0\n",
    "\n",
    "while n>0:\n",
    "  numero = int(input())\n",
    "  if numero % 3 == 0:\n",
    "    if div3 == 0:\n",
    "      num3 = numero\n",
    "      #caso o contador ainda seja 0, pegar o numero atual\n",
    "    div3 +=1\n",
    "    if numero < num3:\n",
    "      #se já existe pelo menos um numero div p/3, entrar nesse if\n",
    "      num3 = numero\n",
    "  n-=1\n",
    "\n",
    "#dentro do loop, verificar se algum é divisivel por 3\n",
    "#imprimir resultado fora do loop\n",
    "\n",
    "if div3 > 0:\n",
    "  print(\"O menor número divisível por 3 é\", num3)\n",
    "else:\n",
    "  print(\"Nenhum número é divisível por 3\")"
   ]
  },
  {
   "cell_type": "code",
   "execution_count": null,
   "metadata": {},
   "outputs": [],
   "source": [
    "'''\n",
    "Faça uma função sequencia(n) que recebe um inteiro n e imprime na tela n caracteres compostos de sequências repetidas dos dígitos 4, 3, 2 e 1, nesta ordem. Os caracteres devem ser impressos em uma única linha e separados por um espaço.\n",
    "\n",
    "Exemplo de execução:\n",
    "\n",
    "sequencia(6)\n",
    "4 3 2 1 4 3\n",
    "sequencia(3)\n",
    "4 3 2\n",
    "sequencia(9)\n",
    "4 3 2 1 4 3 2 1 4\n",
    "'''"
   ]
  },
  {
   "cell_type": "code",
   "execution_count": null,
   "metadata": {},
   "outputs": [],
   "source": [
    "# loop de seq\n",
    "\n",
    "n=int(input(\"sequencia \"))\n",
    "\n",
    "def sequencia(n):\n",
    "    num = 4\n",
    "    for i in range(n):\n",
    "        #print(num)\n",
    "        print(f'{num} ' if (num) >= 1 else '4 ', end=\"\")\n",
    "        num = num-1\n",
    "        #print(num)\n",
    "\n",
    "        #aqui ele deixa o num chegar no 0, mas reseta para 4 para a nova contagem\n",
    "        if num == 0:\n",
    "          num = 4\n",
    "    print()\n",
    "sequencia(n)\n"
   ]
  },
  {
   "cell_type": "code",
   "execution_count": null,
   "metadata": {},
   "outputs": [],
   "source": [
    "'''\n",
    "Escreva um programa que simula a devolução de cédulas de um caixa eletrônico que possui apenas cédulas de 50, 20 e 5 reais.\n",
    "\n",
    "O programa deve ler do teclado o valor que o usuário quer sacar (número inteiro positivo), e então mostrar o número de cédulas que serão devolvidas. O número de cédulas deve ser o menor possível. Se não for possível formar o valor com cédulas de 50, 20 e 5 reais, mostre a mensagem \"Não é possível sacar esse valor\".\n",
    "\n",
    "Exemplos:\n",
    "\n",
    "Quanto você quer sacar? 50\n",
    "Notas de 50: 1\n",
    "Notas de 20: 0\n",
    "Notas de 5: 0\n",
    "Quanto você quer sacar? 185\n",
    "Notas de 50: 3\n",
    "Notas de 20: 1\n",
    "Notas de 5: 3\n",
    "Quanto você quer sacar? 186\n",
    "Não é possível sacar esse valor\n",
    "'''"
   ]
  },
  {
   "cell_type": "code",
   "execution_count": null,
   "metadata": {},
   "outputs": [],
   "source": [
    "valor = int(input(\"Quanto você quer sacar? \"))\n",
    "\n",
    "if valor % 5 == 0:\n",
    "  ced50 = valor // 50\n",
    "  valor = valor % 50\n",
    "  #lembrar de apagar o valor que já foi sacado\n",
    "  ced20 = valor // 20\n",
    "  valor = valor % 20\n",
    "  #aqui também\n",
    "  ced5 = valor // 5\n",
    "  print(\"Notas de 50:\", ced50)\n",
    "  print(\"Notas de 20:\", ced20)\n",
    "  print(\"Notas de 5:\", ced5)\n",
    "else:\n",
    "  print(\"Não é possível sacar esse valor\")\n"
   ]
  },
  {
   "cell_type": "code",
   "execution_count": null,
   "metadata": {},
   "outputs": [],
   "source": [
    "'''\n",
    "Faça uma função matriz(n) que recebe um inteiro positivo n e \n",
    "então imprime na tela uma matriz de n por n números que corresponda\n",
    "ao padrão mostrado nos exemplos a seguir:\n",
    "\n",
    "matriz(4)\n",
    "01 02 03 04\n",
    "02 02 03 04\n",
    "03 03 03 04\n",
    "04 04 04 04\n",
    "\n",
    "matriz(6)\n",
    "01 02 03 04 05 06\n",
    "02 02 03 04 05 06\n",
    "03 03 03 04 05 06\n",
    "04 04 04 04 05 06\n",
    "05 05 05 05 05 06\n",
    "06 06 06 06 06 06\n",
    "matriz(10)\n",
    "01 02 03 04 05 06 07 08 09 10\n",
    "02 02 03 04 05 06 07 08 09 10\n",
    "03 03 03 04 05 06 07 08 09 10\n",
    "04 04 04 04 05 06 07 08 09 10\n",
    "05 05 05 05 05 06 07 08 09 10\n",
    "06 06 06 06 06 06 07 08 09 10\n",
    "07 07 07 07 07 07 07 08 09 10\n",
    "08 08 08 08 08 08 08 08 09 10\n",
    "09 09 09 09 09 09 09 09 09 10\n",
    "10 10 10 10 10 10 10 10 10 10\n",
    "\n",
    "Observação: para mostrar um número x em dois dígitos com um zero à esquerda, use a formatação {x:02} com f-string ou format()\n",
    "'''"
   ]
  },
  {
   "cell_type": "code",
   "execution_count": 2,
   "metadata": {},
   "outputs": [
    {
     "name": "stdout",
     "output_type": "stream",
     "text": [
      "01 02 03 04 05 \n",
      "02 02 03 04 05 \n",
      "03 03 03 04 05 \n",
      "04 04 04 04 05 \n",
      "05 05 05 05 05 \n"
     ]
    }
   ],
   "source": [
    "# loop de matriz\n",
    "\n",
    "n= int(input(\"sequencia \"))\n",
    "def matriz(n):\n",
    "    for i in range(1,n):\n",
    "        num = 1\n",
    "        for j in range(1,n):\n",
    "          print(f'{i:02} ' if (i) > j else f'{j:02} ', end=\"\")\n",
    "        print()\n",
    "\n",
    "matriz(n+1)"
   ]
  }
 ],
 "metadata": {
  "kernelspec": {
   "display_name": "base",
   "language": "python",
   "name": "python3"
  },
  "language_info": {
   "codemirror_mode": {
    "name": "ipython",
    "version": 3
   },
   "file_extension": ".py",
   "mimetype": "text/x-python",
   "name": "python",
   "nbconvert_exporter": "python",
   "pygments_lexer": "ipython3",
   "version": "3.9.16"
  },
  "orig_nbformat": 4
 },
 "nbformat": 4,
 "nbformat_minor": 2
}
